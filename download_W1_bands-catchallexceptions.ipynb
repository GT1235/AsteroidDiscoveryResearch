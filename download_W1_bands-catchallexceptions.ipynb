{
 "cells": [
  {
   "cell_type": "code",
   "execution_count": 1,
   "id": "6c2f7b9e-54e8-4ebe-b420-eb2b1cb454ba",
   "metadata": {
    "execution": {
     "iopub.execute_input": "2025-07-19T21:44:44.086263Z",
     "iopub.status.busy": "2025-07-19T21:44:44.085889Z",
     "iopub.status.idle": "2025-07-19T21:44:48.034032Z",
     "shell.execute_reply": "2025-07-19T21:44:48.032987Z",
     "shell.execute_reply.started": "2025-07-19T21:44:44.086224Z"
    }
   },
   "outputs": [
    {
     "name": "stderr",
     "output_type": "stream",
     "text": [
      "/media/rd1/kwillis/kevlib_dev/src/kevlib/common_imports.py:6: TqdmExperimentalWarning: Using `tqdm.autonotebook.tqdm` in notebook mode. Use `tqdm.tqdm` instead to force console mode (e.g. in jupyter console)\n",
      "  from tqdm.autonotebook import tqdm, trange  # 231010\n"
     ]
    },
    {
     "data": {
      "text/html": [
       "<style>:root { --jp-notebook-max-width: 100% !important; }</style>"
      ],
      "text/plain": [
       "<IPython.core.display.HTML object>"
      ]
     },
     "metadata": {},
     "output_type": "display_data"
    },
    {
     "name": "stdout",
     "output_type": "stream",
     "text": [
      "---------------------------------------------------------------------------------------\n",
      "|                        Last run date: 2025-07-19 05:44 PM E                         |\n",
      "---------------------------------------------------------------------------------------\n",
      "| Python | Jupyterlab | Numpy  | Scipy  | Astropy | Matplotlib | Tensorflow | Pytorch |\n",
      "---------------------------------------------------------------------------------------\n",
      "| 3.11.4 |   4.4.3    | 1.24.3 | 1.11.1 |  5.3.1  |   3.8.3    |   2.13.1   |  2.0.1  |\n",
      "---------------------------------------------------------------------------------------\n"
     ]
    }
   ],
   "source": [
    "from kevlib import common_import_script\n",
    "%run $common_import_script\n",
    "from astropy.coordinates import SkyCoord\n",
    "from astroscrappy import detect_cosmics\n",
    "from astropy.convolution import Gaussian2DKernel, interpolate_replace_nans\n",
    "import lmfit\n",
    "from astropy.io import fits\n",
    "from kevlib.utils.plot import plot_images\n",
    "from glob import glob\n",
    "import kevlib.image as kli\n",
    "from kevlib.utils import fix_byte_order\n",
    "import urllib.parse\n",
    "from astropy.io import ascii as astro_ascii\n",
    "from scipy.ndimage import binary_dilation, binary_erosion\n"
   ]
  },
  {
   "cell_type": "code",
   "execution_count": 2,
   "id": "a5fac10e-d72f-4474-a2ca-cd325096908e",
   "metadata": {
    "execution": {
     "iopub.execute_input": "2025-07-19T21:44:49.859879Z",
     "iopub.status.busy": "2025-07-19T21:44:49.858894Z",
     "iopub.status.idle": "2025-07-19T21:44:49.876057Z",
     "shell.execute_reply": "2025-07-19T21:44:49.875511Z",
     "shell.execute_reply.started": "2025-07-19T21:44:49.859828Z"
    }
   },
   "outputs": [],
   "source": [
    "import numpy as np\n",
    "\n",
    "def find_patterns(image):\n",
    "    target_value = 268435456\n",
    "\n",
    "    height, width = image.shape\n",
    "    mask_image = np.zeros((height, width), dtype=int)\n",
    "\n",
    "    for y in range(height - 1):\n",
    "        for x in range(width - 1):\n",
    "            if (image[y, x] == target_value and\n",
    "                image[y, x + 1] == target_value and\n",
    "                image[y + 1, x] == target_value and\n",
    "                image[y + 1, x + 1] == target_value):\n",
    "                \n",
    "                mask_image[y, x] = 1\n",
    "                mask_image[y, x + 1] = 1\n",
    "                mask_image[y + 1, x] = 1\n",
    "                mask_image[y + 1, x + 1] = 1\n",
    "\n",
    "            if (image[y, x] == target_value and\n",
    "                image[y + 1, x + 1] == target_value):\n",
    "                mask_image[y, x] = 1\n",
    "                mask_image[y + 1, x + 1] = 1\n",
    "\n",
    "            if (image[y, x + 1] == target_value and\n",
    "                image[y + 1, x] == target_value):\n",
    "                mask_image[y, x + 1] = 1\n",
    "                mask_image[y + 1, x] = 1\n",
    "\n",
    "            if image[y, x] == target_value and image[y + 1, x] == target_value:\n",
    "                mask_image[y, x] = 1\n",
    "                mask_image[y + 1, x] = 1\n",
    "\n",
    "            if image[y, x] == target_value and image[y, x + 1] == target_value:\n",
    "                mask_image[y, x] = 1\n",
    "                mask_image[y, x + 1] = 1\n",
    "\n",
    "    for y in range(height - 1):\n",
    "        if image[y, width - 1] == target_value and image[y + 1, width - 1] == target_value:\n",
    "            mask_image[y, width - 1] = 1\n",
    "            mask_image[y + 1, width - 1] = 1\n",
    "\n",
    "    for x in range(width - 1):\n",
    "        if image[height - 1, x] == target_value and image[height - 1, x + 1] == target_value:\n",
    "            mask_image[height - 1, x] = 1\n",
    "            mask_image[height - 1, x + 1] = 1\n",
    "\n",
    "    return mask_image\n",
    "\n",
    "\n",
    "def remove_artifacts(mask, img):\n",
    "    \n",
    "    original_img = np.copy(img)\n",
    "    \n",
    "    bm = find_patterns(mask)\n",
    "    c_obj_map = binary_dilation(bm, iterations=4)\n",
    "    \n",
    "    img[c_obj_map] = np.nan\n",
    "    non_nan_pixels = img[~np.isnan(img)]\n",
    "    background_noise = np.std(non_nan_pixels)\n",
    "    \n",
    "    nan_mask = np.isnan(img)\n",
    "    \n",
    "    img[nan_mask] = np.random.normal(0, background_noise, size=nan_mask.sum())\n",
    "    \n",
    "    # plot_images([mask, original_img, c_obj_map, img], fig_height=2, norm_same=False)\n",
    "    if (original_img==img).all():\n",
    "        corrected = False;\n",
    "    else:\n",
    "        corrected= True\n",
    "    return img, corrected"
   ]
  },
  {
   "cell_type": "code",
   "execution_count": 3,
   "id": "19d76dde-b54a-4a61-8c1f-beed0e7d52c4",
   "metadata": {
    "execution": {
     "iopub.execute_input": "2025-07-19T21:45:00.302972Z",
     "iopub.status.busy": "2025-07-19T21:45:00.302575Z",
     "iopub.status.idle": "2025-07-19T21:45:00.313638Z",
     "shell.execute_reply": "2025-07-19T21:45:00.313081Z",
     "shell.execute_reply.started": "2025-07-19T21:45:00.302950Z"
    }
   },
   "outputs": [],
   "source": [
    "def get_single_file_url(scan_id, scangrp, frame_num):\n",
    "\n",
    "    irsa_url = \"%s/%s/%03d/\" % (scangrp, scan_id, frame_num)\n",
    "\n",
    "    filename = f\"{scan_id:s}{frame_num:03d}-w2-int-1b.fits\"\n",
    "\n",
    "    irsa_url = f'https://irsa.ipac.caltech.edu/ibe/data/wise/neowiser/p1bm_frm/{irsa_url}/{filename}'\n",
    "    \n",
    "    return irsa_url\n",
    "\n",
    "#----------------------------------------------------------------------------------------------------------------------------\n",
    "\n",
    "def URL_list(megalist):\n",
    "    urllist = []\n",
    "    for i in megalist:\n",
    "        url = get_single_file_url(i[1], i[2], int(i[0]))\n",
    "        urllist.append(url)\n",
    "    return urllist\n",
    "\n",
    "def maskImage(path, showImage=False):\n",
    "    single_path = path\n",
    "    im_single = fix_byte_order(fits.getdata(single_path))\n",
    "\n",
    "    s_bkg, s_rms = kli.background.measure_bkg_and_rms(im_single, meas_window_size=[10]*2, outlier_sigma=3, blur_sigma=20, blur_kernel_size=31, device='cuda')\n",
    "    im_single_br = im_single - s_bkg # Bkg removal\n",
    "    \n",
    "    im_single_c = kli.nan_infill(im_single_br, s_rms)\n",
    "\n",
    "    # im_sg_br / s_rms - > noise normalized\n",
    "    \n",
    "    im_coadd = kli.wise.make_wise_coadd(single_path)\n",
    "    \n",
    "    c_bkg, c_rms = kli.background.measure_bkg_and_rms(im_coadd, meas_window_size=[10]*2, outlier_sigma=3, blur_sigma=20, blur_kernel_size=31, device='cuda')\n",
    "    im_coadd_br = im_coadd - c_bkg \n",
    "    \n",
    "    c_obj_map = im_coadd_br > 0.5\n",
    "    \n",
    "    c_obj_map = binary_dilation(binary_erosion(c_obj_map, iterations=1), iterations=2)\n",
    "\n",
    "    \n",
    "    im_single_masked = im_single_c.copy()\n",
    "    im_single_masked[c_obj_map] = np.nan\n",
    "    \n",
    "    # Measure single bkg and RMS\n",
    "    \n",
    "    s_bkg, s_rms = kli.background.measure_bkg_and_rms(\n",
    "        im_single_masked, meas_window_size=[10]*2, outlier_sigma=3, \n",
    "        blur_sigma=20, blur_kernel_size=31, device='cuda',\n",
    "    )\n",
    "    # Remove single bkg\n",
    "    s_b = im_single_masked - s_bkg\n",
    "    # Infill single NaNs with noise\n",
    "    s_i = kli.nan_infill(s_b, s_rms)\n",
    "\n",
    "    #--------------------------------------------------------------------------------------------------------------------------------------------------------\n",
    "    constant_scaler = 5\n",
    "\n",
    "    s_norm = s_i.copy()\n",
    "\n",
    "    low_px_mask = s_norm < -3 * s_rms\n",
    "\n",
    "    s_norm[low_px_mask] = np.nan\n",
    "    \n",
    "    s_norm = kli.nan_infill(s_norm, s_rms)\n",
    "    \n",
    "    s_norm /= (s_rms * constant_scaler)\n",
    "\n",
    "\n",
    "    #--------------------------------------------------------------------------------------------------------------------------------------------------------\n",
    "\n",
    "    if showImage:\n",
    "        axs = plot_images(\n",
    "            ims=[im_single_c, s_i, im_coadd], \n",
    "            title=None, norm_same=False, fig_height=4, \n",
    "            norm_kwargs=dict(min_cut=-1, max_cut=1000), \n",
    "            imshow_kwargs=dict(cmap='viridis')\n",
    "        )\n",
    "        [ax.set_title(t) for ax, t in zip(axs, ['Single', 'Masked Single', 'Coadd'])];\n",
    "\n",
    "    return s_norm, im_coadd, im_single\n",
    "\n",
    "\n",
    "import numpy as np\n",
    "from PIL import Image\n",
    "\n",
    "def grid_image(image_array, square_size):\n",
    "    corners = []\n",
    "    image = Image.fromarray(image_array)\n",
    "\n",
    "    width, height = image.size\n",
    "\n",
    "    # Calculate the number of squares in both dimensions\n",
    "    num_squares_x = width // square_size\n",
    "    num_squares_y = height // square_size\n",
    "\n",
    "    squares = []\n",
    "    # Loop through the image and crop it into smaller squares\n",
    "    for i in range(num_squares_x):\n",
    "        for j in range(num_squares_y):\n",
    "            left = i * square_size\n",
    "            upper = j * square_size\n",
    "            right = (i + 1) * square_size\n",
    "            lower = (j + 1) * square_size\n",
    "\n",
    "            # Crop the square\n",
    "            square = image.crop((left, upper, right, lower))\n",
    "            # if left == 0:\n",
    "            #     print(left, upper, right, lower)\n",
    "            \n",
    "            # Convert the square to a NumPy array and append to the list\n",
    "            square_array = np.array(square)\n",
    "            squares.append(square_array)\n",
    "\n",
    "            # midpt = midpoint(left, upper, right, lower)\n",
    "            corners.append([left,upper])\n",
    "            # print(\"corner: \", left, upper)\n",
    "\n",
    "    return squares, corners\n"
   ]
  },
  {
   "cell_type": "code",
   "execution_count": 4,
   "id": "40d787f1-977f-42f2-b590-4a9d4e1ee12f",
   "metadata": {
    "execution": {
     "iopub.execute_input": "2025-07-19T21:45:05.948278Z",
     "iopub.status.busy": "2025-07-19T21:45:05.947700Z",
     "iopub.status.idle": "2025-07-19T21:45:06.628226Z",
     "shell.execute_reply": "2025-07-19T21:45:06.627730Z",
     "shell.execute_reply.started": "2025-07-19T21:45:05.948235Z"
    }
   },
   "outputs": [
    {
     "data": {
      "text/plain": [
       "3389195"
      ]
     },
     "execution_count": 4,
     "metadata": {},
     "output_type": "execute_result"
    }
   ],
   "source": [
    "urllist = np.load(\"./Searches/S1_URLs.npy\")\n",
    "len(urllist)"
   ]
  },
  {
   "cell_type": "code",
   "execution_count": 5,
   "id": "3534d554-af3f-44ac-b871-a7a65ade13c5",
   "metadata": {
    "execution": {
     "iopub.execute_input": "2025-07-19T21:45:07.276819Z",
     "iopub.status.busy": "2025-07-19T21:45:07.276231Z",
     "iopub.status.idle": "2025-07-19T21:45:13.308001Z",
     "shell.execute_reply": "2025-07-19T21:45:13.307438Z",
     "shell.execute_reply.started": "2025-07-19T21:45:07.276777Z"
    }
   },
   "outputs": [],
   "source": [
    "urllist = np.unique(urllist)"
   ]
  },
  {
   "cell_type": "code",
   "execution_count": 6,
   "id": "6a24a6b9-090f-4502-a6f4-00e141cc7700",
   "metadata": {
    "execution": {
     "iopub.execute_input": "2025-07-19T21:45:13.309535Z",
     "iopub.status.busy": "2025-07-19T21:45:13.309213Z",
     "iopub.status.idle": "2025-07-19T21:45:13.313098Z",
     "shell.execute_reply": "2025-07-19T21:45:13.312664Z",
     "shell.execute_reply.started": "2025-07-19T21:45:13.309510Z"
    }
   },
   "outputs": [
    {
     "data": {
      "text/plain": [
       "755"
      ]
     },
     "execution_count": 6,
     "metadata": {},
     "output_type": "execute_result"
    }
   ],
   "source": [
    "len(urllist)"
   ]
  },
  {
   "cell_type": "code",
   "execution_count": 7,
   "id": "93429d2e-30e1-443e-97a0-227afb822bbb",
   "metadata": {
    "execution": {
     "iopub.execute_input": "2025-07-19T21:45:16.131579Z",
     "iopub.status.busy": "2025-07-19T21:45:16.130984Z",
     "iopub.status.idle": "2025-07-19T21:45:16.138286Z",
     "shell.execute_reply": "2025-07-19T21:45:16.137150Z",
     "shell.execute_reply.started": "2025-07-19T21:45:16.131535Z"
    }
   },
   "outputs": [],
   "source": [
    "w1_urls = [url[0:88] + \"2\" + url[89:] for url in urllist]"
   ]
  },
  {
   "cell_type": "code",
   "execution_count": 8,
   "id": "a7f01b99-40ac-432c-b6d0-d855660e4609",
   "metadata": {
    "execution": {
     "iopub.execute_input": "2025-07-19T21:45:16.779945Z",
     "iopub.status.busy": "2025-07-19T21:45:16.779330Z",
     "iopub.status.idle": "2025-07-19T21:45:16.787005Z",
     "shell.execute_reply": "2025-07-19T21:45:16.786003Z",
     "shell.execute_reply.started": "2025-07-19T21:45:16.779899Z"
    }
   },
   "outputs": [
    {
     "data": {
      "text/plain": [
       "755"
      ]
     },
     "execution_count": 8,
     "metadata": {},
     "output_type": "execute_result"
    }
   ],
   "source": [
    "len(w1_urls)"
   ]
  },
  {
   "cell_type": "code",
   "execution_count": 12,
   "id": "c5d384be-4445-43d3-ad39-78f5ce6e566c",
   "metadata": {
    "execution": {
     "iopub.execute_input": "2025-07-19T21:50:14.878603Z",
     "iopub.status.busy": "2025-07-19T21:50:14.878025Z",
     "iopub.status.idle": "2025-07-19T22:51:48.851210Z",
     "shell.execute_reply": "2025-07-19T22:51:48.850325Z",
     "shell.execute_reply.started": "2025-07-19T21:50:14.878562Z"
    },
    "scrolled": true
   },
   "outputs": [
    {
     "name": "stderr",
     "output_type": "stream",
     "text": [
      " 28%|██▊       | 213/755 [17:04<45:52,  5.08s/it] "
     ]
    },
    {
     "name": "stdout",
     "output_type": "stream",
     "text": [
      "'NoneType' object has no attribute 'copy'\n"
     ]
    },
    {
     "name": "stderr",
     "output_type": "stream",
     "text": [
      " 65%|██████▍   | 490/755 [38:50<19:16,  4.37s/it]"
     ]
    },
    {
     "name": "stdout",
     "output_type": "stream",
     "text": [
      "'NoneType' object has no attribute 'copy'\n"
     ]
    },
    {
     "name": "stderr",
     "output_type": "stream",
     "text": [
      " 72%|███████▏  | 543/755 [43:05<18:16,  5.17s/it]"
     ]
    },
    {
     "name": "stdout",
     "output_type": "stream",
     "text": [
      "'NoneType' object has no attribute 'copy'\n"
     ]
    },
    {
     "name": "stderr",
     "output_type": "stream",
     "text": [
      " 97%|█████████▋| 734/755 [58:32<01:32,  4.42s/it]"
     ]
    },
    {
     "name": "stdout",
     "output_type": "stream",
     "text": [
      "'NoneType' object has no attribute 'copy'\n"
     ]
    },
    {
     "name": "stderr",
     "output_type": "stream",
     "text": [
      "100%|██████████| 755/755 [1:00:15<00:00,  4.79s/it]\n"
     ]
    },
    {
     "name": "stdout",
     "output_type": "stream",
     "text": [
      "finished main loop\n",
      "started creating npy files\n",
      "starting to save data\n"
     ]
    },
    {
     "ename": "NameError",
     "evalue": "name 'dep' is not defined",
     "output_type": "error",
     "traceback": [
      "\u001b[0;31m---------------------------------------------------------------------------\u001b[0m",
      "\u001b[0;31mNameError\u001b[0m                                 Traceback (most recent call last)",
      "Cell \u001b[0;32mIn[12], line 53\u001b[0m\n\u001b[1;32m     49\u001b[0m finaldep\u001b[38;5;241m.\u001b[39mflush()\n\u001b[1;32m     51\u001b[0m \u001b[38;5;28mprint\u001b[39m(\u001b[38;5;124m\"\u001b[39m\u001b[38;5;124mstarting to save data\u001b[39m\u001b[38;5;124m\"\u001b[39m)\n\u001b[0;32m---> 53\u001b[0m \u001b[38;5;28;01mfor\u001b[39;00m i \u001b[38;5;129;01min\u001b[39;00m \u001b[38;5;28mrange\u001b[39m(\u001b[38;5;28mlen\u001b[39m(\u001b[43mdep\u001b[49m)):\n\u001b[1;32m     54\u001b[0m     \u001b[38;5;66;03m# dep[i, :, :] = deploy_samples[i]\u001b[39;00m\n\u001b[1;32m     56\u001b[0m     im, c \u001b[38;5;241m=\u001b[39m remove_artifacts(np\u001b[38;5;241m.\u001b[39marray(bitmasks_g[i]), deploy_samples[i])\n\u001b[1;32m     57\u001b[0m     finaldep[i, :, :] \u001b[38;5;241m=\u001b[39m im\n",
      "\u001b[0;31mNameError\u001b[0m: name 'dep' is not defined"
     ]
    }
   ],
   "source": [
    "from kevlib.utils.io import mmcreate, mmload\n",
    "from tqdm import tqdm\n",
    "grids = []\n",
    "topcorners = []\n",
    "coadds = []\n",
    "bitmasks = []\n",
    "singles = []\n",
    "\n",
    "for i in tqdm(range(len(w1_urls))): \n",
    "    for x in range(20):\n",
    "        try:\n",
    "            m, coadd, single = maskImage(w1_urls[i])\n",
    "        except Exception as e:\n",
    "            print(e)\n",
    "        else:\n",
    "            break\n",
    "    \n",
    "    squares, corners = grid_image(m, square_size=15)\n",
    "\n",
    "    bitmask_url = urllist[i][:87] + \"w2-msk-1b.fits.gz\"\n",
    "    for x in range(20):\n",
    "        try:\n",
    "            bmask = fits.open(bitmask_url)\n",
    "        except Exception as e:\n",
    "            print(e)\n",
    "        else:\n",
    "            break\n",
    "    b_mask = bmask[0].data\n",
    "    b_grid, _ = grid_image(b_mask, 15)\n",
    "    bmask.close()\n",
    "\n",
    "   \n",
    "    grids.append(squares)\n",
    "    bitmasks.append(b_grid)\n",
    "\n",
    "print(\"finished main loop\")\n",
    "\n",
    "deploy_samples = [i for a in grids for i in a]\n",
    "bitmasks_g = [i for a in bitmasks for i in a]\n",
    "\n",
    "print(\"started creating npy files\")\n",
    "# dep = mmcreate(\"./Searches/2_S1_initial_deploy_grids_W1.npy\", dtype=float, shape=(len(deploy_samples), 15, 15), fill_value=0)\n",
    "# dep.flush()\n",
    "\n",
    "# bit = mmcreate(\"./Searches/2_S1_bitmasks_W1.npy\", dtype=float, shape=(len(deploy_samples), 15, 15), fill_value=0)\n",
    "# bit.flush()\n",
    "\n",
    "finaldep = mmcreate(\"./Searches/S1_W2_Search_Redo_Masked.npy\", dtype=float, shape=(len(deploy_samples), 15, 15), fill_value=0)\n",
    "finaldep.flush()\n",
    "\n",
    "print(\"starting to save data\")\n",
    "\n",
    "for i in range(len(dep)):\n",
    "    # dep[i, :, :] = deploy_samples[i]\n",
    "    \n",
    "    im, c = remove_artifacts(np.array(bitmasks_g[i]), deploy_samples[i])\n",
    "    finaldep[i, :, :] = im\n",
    "    \n",
    "    # dep.flush()\n",
    "    # bit.flush()\n",
    "    if i % 20 == 0:\n",
    "        finaldep.flush()"
   ]
  },
  {
   "cell_type": "code",
   "execution_count": 13,
   "id": "52b10dea-3e04-48a0-a6bd-cae6f61d152d",
   "metadata": {
    "execution": {
     "iopub.execute_input": "2025-07-20T00:02:01.142074Z",
     "iopub.status.busy": "2025-07-20T00:02:01.141471Z",
     "iopub.status.idle": "2025-07-20T00:02:01.148910Z",
     "shell.execute_reply": "2025-07-20T00:02:01.148029Z",
     "shell.execute_reply.started": "2025-07-20T00:02:01.142030Z"
    }
   },
   "outputs": [
    {
     "data": {
      "text/plain": [
       "3389195"
      ]
     },
     "execution_count": 13,
     "metadata": {},
     "output_type": "execute_result"
    }
   ],
   "source": [
    "len(finaldep)"
   ]
  },
  {
   "cell_type": "code",
   "execution_count": 16,
   "id": "a6275870-9842-45c3-b5c3-c617d063f809",
   "metadata": {
    "execution": {
     "iopub.execute_input": "2025-07-20T00:04:17.913749Z",
     "iopub.status.busy": "2025-07-20T00:04:17.913160Z",
     "iopub.status.idle": "2025-07-20T00:04:51.247984Z",
     "shell.execute_reply": "2025-07-20T00:04:51.247289Z",
     "shell.execute_reply.started": "2025-07-20T00:04:17.913707Z"
    }
   },
   "outputs": [],
   "source": [
    "np.save(\"w2_s1_initialgrids\", deploy_samples)"
   ]
  },
  {
   "cell_type": "code",
   "execution_count": 15,
   "id": "9491697a-33fa-48ba-b698-28117eb0dc23",
   "metadata": {
    "execution": {
     "iopub.execute_input": "2025-07-20T00:03:28.407306Z",
     "iopub.status.busy": "2025-07-20T00:03:28.406702Z",
     "iopub.status.idle": "2025-07-20T00:03:43.184091Z",
     "shell.execute_reply": "2025-07-20T00:03:43.182980Z",
     "shell.execute_reply.started": "2025-07-20T00:03:28.407262Z"
    }
   },
   "outputs": [
    {
     "name": "stderr",
     "output_type": "stream",
     "text": [
      "  0%|          | 5340/3389195 [00:14<2:35:39, 362.30it/s]\n"
     ]
    },
    {
     "ename": "KeyboardInterrupt",
     "evalue": "",
     "output_type": "error",
     "traceback": [
      "\u001b[0;31m---------------------------------------------------------------------------\u001b[0m",
      "\u001b[0;31mKeyboardInterrupt\u001b[0m                         Traceback (most recent call last)",
      "Cell \u001b[0;32mIn[15], line 10\u001b[0m\n\u001b[1;32m      7\u001b[0m \u001b[38;5;66;03m# dep.flush()\u001b[39;00m\n\u001b[1;32m      8\u001b[0m \u001b[38;5;66;03m# bit.flush()\u001b[39;00m\n\u001b[1;32m      9\u001b[0m \u001b[38;5;28;01mif\u001b[39;00m i \u001b[38;5;241m%\u001b[39m \u001b[38;5;241m20\u001b[39m \u001b[38;5;241m==\u001b[39m \u001b[38;5;241m0\u001b[39m:\n\u001b[0;32m---> 10\u001b[0m     \u001b[43mfinaldep\u001b[49m\u001b[38;5;241;43m.\u001b[39;49m\u001b[43mflush\u001b[49m\u001b[43m(\u001b[49m\u001b[43m)\u001b[49m\n",
      "File \u001b[0;32m/opt/anaconda_2023/envs/py311/lib/python3.11/site-packages/numpy/core/memmap.py:317\u001b[0m, in \u001b[0;36mmemmap.flush\u001b[0;34m(self)\u001b[0m\n\u001b[1;32m    302\u001b[0m \u001b[38;5;250m\u001b[39m\u001b[38;5;124;03m\"\"\"\u001b[39;00m\n\u001b[1;32m    303\u001b[0m \u001b[38;5;124;03mWrite any changes in the array to the file on disk.\u001b[39;00m\n\u001b[1;32m    304\u001b[0m \n\u001b[0;32m   (...)\u001b[0m\n\u001b[1;32m    314\u001b[0m \n\u001b[1;32m    315\u001b[0m \u001b[38;5;124;03m\"\"\"\u001b[39;00m\n\u001b[1;32m    316\u001b[0m \u001b[38;5;28;01mif\u001b[39;00m \u001b[38;5;28mself\u001b[39m\u001b[38;5;241m.\u001b[39mbase \u001b[38;5;129;01mis\u001b[39;00m \u001b[38;5;129;01mnot\u001b[39;00m \u001b[38;5;28;01mNone\u001b[39;00m \u001b[38;5;129;01mand\u001b[39;00m \u001b[38;5;28mhasattr\u001b[39m(\u001b[38;5;28mself\u001b[39m\u001b[38;5;241m.\u001b[39mbase, \u001b[38;5;124m'\u001b[39m\u001b[38;5;124mflush\u001b[39m\u001b[38;5;124m'\u001b[39m):\n\u001b[0;32m--> 317\u001b[0m     \u001b[38;5;28;43mself\u001b[39;49m\u001b[38;5;241;43m.\u001b[39;49m\u001b[43mbase\u001b[49m\u001b[38;5;241;43m.\u001b[39;49m\u001b[43mflush\u001b[49m\u001b[43m(\u001b[49m\u001b[43m)\u001b[49m\n",
      "\u001b[0;31mKeyboardInterrupt\u001b[0m: "
     ]
    }
   ],
   "source": [
    "\n",
    "for i in tqdm(range(len(finaldep))):\n",
    "    # dep[i, :, :] = deploy_samples[i]\n",
    "    \n",
    "    im, c = remove_artifacts(np.array(bitmasks_g[i]), deploy_samples[i])\n",
    "    finaldep[i, :, :] = im\n",
    "    \n",
    "    # dep.flush()\n",
    "    # bit.flush()\n",
    "    if i % 20 == 0:\n",
    "        finaldep.flush()"
   ]
  },
  {
   "cell_type": "code",
   "execution_count": 17,
   "id": "b2a6a5ea-552b-474d-97cf-0256de6e6417",
   "metadata": {
    "execution": {
     "iopub.execute_input": "2025-07-12T21:25:10.891247Z",
     "iopub.status.busy": "2025-07-12T21:25:10.890728Z",
     "iopub.status.idle": "2025-07-12T21:26:51.950582Z",
     "shell.execute_reply": "2025-07-12T21:26:51.949971Z",
     "shell.execute_reply.started": "2025-07-12T21:25:10.891209Z"
    }
   },
   "outputs": [],
   "source": [
    "np.save(\"./Searches/2_S1_initial_deploy_grids_W1.npy\", deploy_samples)"
   ]
  },
  {
   "cell_type": "code",
   "execution_count": 18,
   "id": "ae542213-7118-4fb4-8baa-29542f234f0d",
   "metadata": {
    "execution": {
     "iopub.execute_input": "2025-07-12T21:27:40.579988Z",
     "iopub.status.busy": "2025-07-12T21:27:40.579411Z",
     "iopub.status.idle": "2025-07-12T21:27:40.587527Z",
     "shell.execute_reply": "2025-07-12T21:27:40.586425Z",
     "shell.execute_reply.started": "2025-07-12T21:27:40.579945Z"
    }
   },
   "outputs": [
    {
     "data": {
      "text/plain": [
       "3389195"
      ]
     },
     "execution_count": 18,
     "metadata": {},
     "output_type": "execute_result"
    }
   ],
   "source": [
    "len(deploy_samples)\n",
    "# for i in tqdm(range(len(dep))):\n",
    "#     dep[i, :, :] = deploy_samples[i]\n",
    "#     bit[i, :, :] = bitmasks_g[i]\n",
    "    \n",
    "#     im, c = remove_artifacts(np.array(bit[i]), dep[i])\n",
    "#     finaldep[i, :, :] = im\n",
    "    \n",
    "#     dep.flush()\n",
    "#     bit.flush()\n",
    "#     finaldep.flush()"
   ]
  },
  {
   "cell_type": "code",
   "execution_count": null,
   "id": "05c36767-37b9-4d18-93b1-84f29c514a9b",
   "metadata": {},
   "outputs": [],
   "source": [
    " m, coadd, single = maskImage(w1_urls[i])"
   ]
  },
  {
   "cell_type": "code",
   "execution_count": 42,
   "id": "d5a52619-9fc7-4a88-b12f-6184e8f065ea",
   "metadata": {
    "execution": {
     "iopub.execute_input": "2025-07-12T17:53:58.422976Z",
     "iopub.status.busy": "2025-07-12T17:53:58.422484Z",
     "iopub.status.idle": "2025-07-12T17:54:06.176056Z",
     "shell.execute_reply": "2025-07-12T17:54:06.175468Z",
     "shell.execute_reply.started": "2025-07-12T17:53:58.422943Z"
    }
   },
   "outputs": [],
   "source": [
    "m, coadd, single = maskImage(w1_urls[i])"
   ]
  },
  {
   "cell_type": "code",
   "execution_count": 33,
   "id": "8b2d02ad-a72b-44bd-861d-3eb9049c4e85",
   "metadata": {
    "execution": {
     "iopub.execute_input": "2025-07-12T16:50:17.807104Z",
     "iopub.status.busy": "2025-07-12T16:50:17.806731Z",
     "iopub.status.idle": "2025-07-12T16:50:17.811172Z",
     "shell.execute_reply": "2025-07-12T16:50:17.810627Z",
     "shell.execute_reply.started": "2025-07-12T16:50:17.807079Z"
    }
   },
   "outputs": [
    {
     "data": {
      "text/plain": [
       "'https://irsa.ipac.caltech.edu/ibe/data/wise/neowiser/p1bm_frm/0r/42270r/133//42270r133-w1-msk-1b.fits.gz'"
      ]
     },
     "execution_count": 33,
     "metadata": {},
     "output_type": "execute_result"
    }
   ],
   "source": [
    "bitmask_url"
   ]
  },
  {
   "cell_type": "code",
   "execution_count": 25,
   "id": "daedabd4-5adf-4725-bb4e-43f6ea891247",
   "metadata": {
    "execution": {
     "iopub.execute_input": "2025-07-12T22:13:50.851395Z",
     "iopub.status.busy": "2025-07-12T22:13:50.850830Z",
     "iopub.status.idle": "2025-07-12T22:13:50.858588Z",
     "shell.execute_reply": "2025-07-12T22:13:50.857567Z",
     "shell.execute_reply.started": "2025-07-12T22:13:50.851355Z"
    }
   },
   "outputs": [
    {
     "data": {
      "text/plain": [
       "3389195"
      ]
     },
     "execution_count": 25,
     "metadata": {},
     "output_type": "execute_result"
    }
   ],
   "source": [
    "len(deploy_samples)"
   ]
  },
  {
   "cell_type": "code",
   "execution_count": 22,
   "id": "f1b27fbd-0b67-4ddc-9765-3e28f7da8323",
   "metadata": {
    "execution": {
     "iopub.execute_input": "2025-07-12T22:13:08.295828Z",
     "iopub.status.busy": "2025-07-12T22:13:08.295333Z",
     "iopub.status.idle": "2025-07-12T22:13:08.396625Z",
     "shell.execute_reply": "2025-07-12T22:13:08.396010Z",
     "shell.execute_reply.started": "2025-07-12T22:13:08.295791Z"
    }
   },
   "outputs": [],
   "source": [
    "grids_ex = [f for g in grids for f in g]"
   ]
  },
  {
   "cell_type": "code",
   "execution_count": 23,
   "id": "8af70491-6d3b-4656-ae95-7a2ed48fa22e",
   "metadata": {
    "execution": {
     "iopub.execute_input": "2025-07-12T22:13:15.947766Z",
     "iopub.status.busy": "2025-07-12T22:13:15.947189Z",
     "iopub.status.idle": "2025-07-12T22:13:15.953828Z",
     "shell.execute_reply": "2025-07-12T22:13:15.953183Z",
     "shell.execute_reply.started": "2025-07-12T22:13:15.947726Z"
    }
   },
   "outputs": [
    {
     "data": {
      "text/plain": [
       "3389195"
      ]
     },
     "execution_count": 23,
     "metadata": {},
     "output_type": "execute_result"
    }
   ],
   "source": [
    "np.save(\"W1_sts_search_grids\", grids_ex)"
   ]
  },
  {
   "cell_type": "code",
   "execution_count": 36,
   "id": "0b568365-548f-4594-a9ac-05576f9a37a1",
   "metadata": {
    "execution": {
     "iopub.execute_input": "2025-07-12T22:35:04.177622Z",
     "iopub.status.busy": "2025-07-12T22:35:04.177099Z",
     "iopub.status.idle": "2025-07-12T22:35:04.284555Z",
     "shell.execute_reply": "2025-07-12T22:35:04.284055Z",
     "shell.execute_reply.started": "2025-07-12T22:35:04.177587Z"
    }
   },
   "outputs": [
    {
     "data": {
      "text/plain": [
       "array([<Axes: >, <Axes: >], dtype=object)"
      ]
     },
     "execution_count": 36,
     "metadata": {},
     "output_type": "execute_result"
    },
    {
     "data": {
      "application/vnd.jupyter.widget-view+json": {
       "model_id": "fd0d519504bd49379aad94eb762f6ad5",
       "version_major": 2,
       "version_minor": 0
      },
      "image/png": "[encoded data removed]",
      "text/html": [
       "\n",
       "            <div style=\"display: inline-block;\">\n",
       "                <div class=\"jupyter-widgets widget-label\" style=\"text-align: center;\">\n",
       "                    Figure\n",
       "                </div>\n",
       "                <img src='data:image/png;base64,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' width=400.0/>\n",
       "            </div>\n",
       "        "
      ],
      "text/plain": [
       "Canvas(toolbar=Toolbar(toolitems=[('Home', 'Reset original view', 'home', 'home'), ('Back', 'Back to previous …"
      ]
     },
     "metadata": {},
     "output_type": "display_data"
    }
   ],
   "source": [
    "plot_images([grids[-10][-1], deploy_samples[-1]], fig_height=2)"
   ]
  },
  {
   "cell_type": "code",
   "execution_count": null,
   "id": "04d9bae5-c2fb-4169-96b7-19cf64ac2c22",
   "metadata": {},
   "outputs": [],
   "source": [
    "plot_images(grids[0][0], fig_height=2)"
   ]
  },
  {
   "cell_type": "code",
   "execution_count": 38,
   "id": "d909f955-e0e7-4f41-8d57-7a2f178c38fd",
   "metadata": {
    "execution": {
     "iopub.execute_input": "2025-07-12T22:36:49.903520Z",
     "iopub.status.busy": "2025-07-12T22:36:49.902946Z",
     "iopub.status.idle": "2025-07-12T22:36:49.911200Z",
     "shell.execute_reply": "2025-07-12T22:36:49.910073Z",
     "shell.execute_reply.started": "2025-07-12T22:36:49.903481Z"
    }
   },
   "outputs": [
    {
     "data": {
      "text/plain": [
       "755"
      ]
     },
     "execution_count": 38,
     "metadata": {},
     "output_type": "execute_result"
    }
   ],
   "source": [
    "len(w1_urls)"
   ]
  },
  {
   "cell_type": "code",
   "execution_count": 52,
   "id": "b875470b-7a85-4f92-88c0-cc0aa81bff3a",
   "metadata": {
    "execution": {
     "iopub.execute_input": "2025-07-12T22:48:21.393888Z",
     "iopub.status.busy": "2025-07-12T22:48:21.393295Z",
     "iopub.status.idle": "2025-07-12T22:48:21.474313Z",
     "shell.execute_reply": "2025-07-12T22:48:21.473003Z",
     "shell.execute_reply.started": "2025-07-12T22:48:21.393831Z"
    }
   },
   "outputs": [
    {
     "data": {
      "text/plain": [
       "2"
      ]
     },
     "execution_count": 52,
     "metadata": {},
     "output_type": "execute_result"
    }
   ],
   "source": [
    "raw = fits.getdata(w1_urls[i])\n",
    "squares, _ = grid_image(raw, square_size=15)\n",
    "len(squares)"
   ]
  },
  {
   "cell_type": "code",
   "execution_count": 53,
   "id": "23e35338-03e0-4564-98db-dca73d9b4b4c",
   "metadata": {
    "execution": {
     "iopub.execute_input": "2025-07-12T22:48:30.287393Z",
     "iopub.status.busy": "2025-07-12T22:48:30.286814Z",
     "iopub.status.idle": "2025-07-12T22:49:16.526169Z",
     "shell.execute_reply": "2025-07-12T22:49:16.525540Z",
     "shell.execute_reply.started": "2025-07-12T22:48:30.287352Z"
    }
   },
   "outputs": [],
   "source": [
    "w1_ims_raw = []\n",
    "\n",
    "for i in range(755):\n",
    "    raw = fits.getdata(w1_urls[i])\n",
    "    squares, _ = grid_image(raw, square_size=15)\n",
    "    for square in squares:\n",
    "        w1_ims_raw.append(square)"
   ]
  },
  {
   "cell_type": "code",
   "execution_count": 42,
   "id": "d05d435d-90fb-4105-86dd-27fef3c379c8",
   "metadata": {
    "execution": {
     "iopub.execute_input": "2025-07-12T22:42:49.718170Z",
     "iopub.status.busy": "2025-07-12T22:42:49.717567Z",
     "iopub.status.idle": "2025-07-12T22:42:49.726027Z",
     "shell.execute_reply": "2025-07-12T22:42:49.724973Z",
     "shell.execute_reply.started": "2025-07-12T22:42:49.718129Z"
    }
   },
   "outputs": [
    {
     "data": {
      "text/plain": [
       "4489"
      ]
     },
     "execution_count": 42,
     "metadata": {},
     "output_type": "execute_result"
    }
   ],
   "source": [
    "len(w1_ims_raw[0][0])"
   ]
  },
  {
   "cell_type": "code",
   "execution_count": 45,
   "id": "7f1b5254-a2f6-430c-a15f-c0cda8c7b37a",
   "metadata": {
    "execution": {
     "iopub.execute_input": "2025-07-12T22:43:17.355097Z",
     "iopub.status.busy": "2025-07-12T22:43:17.354211Z",
     "iopub.status.idle": "2025-07-12T22:43:17.483366Z",
     "shell.execute_reply": "2025-07-12T22:43:17.482450Z",
     "shell.execute_reply.started": "2025-07-12T22:43:17.355055Z"
    }
   },
   "outputs": [
    {
     "data": {
      "text/plain": [
       "array([<Axes: >], dtype=object)"
      ]
     },
     "execution_count": 45,
     "metadata": {},
     "output_type": "execute_result"
    },
    {
     "data": {
      "application/vnd.jupyter.widget-view+json": {
       "model_id": "d44a7102d7234ef1b53eb368b428fec9",
       "version_major": 2,
       "version_minor": 0
      },
      "image/png": "[encoded data removed]",
      "text/html": [
       "\n",
       "            <div style=\"display: inline-block;\">\n",
       "                <div class=\"jupyter-widgets widget-label\" style=\"text-align: center;\">\n",
       "                    Figure\n",
       "                </div>\n",
       "                <img src='data:image/png;base64,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' width=600.0/>\n",
       "            </div>\n",
       "        "
      ],
      "text/plain": [
       "Canvas(toolbar=Toolbar(toolitems=[('Home', 'Reset original view', 'home', 'home'), ('Back', 'Back to previous …"
      ]
     },
     "metadata": {},
     "output_type": "display_data"
    }
   ],
   "source": [
    "plot_images(w1_ims_raw[0][0][30])"
   ]
  },
  {
   "cell_type": "code",
   "execution_count": 1,
   "id": "dae38091-bef9-43f0-908a-3e84222c0fb9",
   "metadata": {
    "execution": {
     "iopub.execute_input": "2025-10-31T22:17:33.341076Z",
     "iopub.status.busy": "2025-10-31T22:17:33.340546Z",
     "iopub.status.idle": "2025-10-31T22:17:33.347161Z",
     "shell.execute_reply": "2025-10-31T22:17:33.346011Z",
     "shell.execute_reply.started": "2025-10-31T22:17:33.341031Z"
    }
   },
   "outputs": [],
   "source": [
    "w1_ims_raw = np.array(w1_ims_raw)"
   ]
  },
  {
   "cell_type": "code",
   "execution_count": 56,
   "id": "6b0c5a83-cc76-418d-8849-9208d5ee78b9",
   "metadata": {
    "execution": {
     "iopub.execute_input": "2025-07-12T23:19:43.362193Z",
     "iopub.status.busy": "2025-07-12T23:19:43.361588Z",
     "iopub.status.idle": "2025-07-12T23:19:43.370325Z",
     "shell.execute_reply": "2025-07-12T23:19:43.369333Z",
     "shell.execute_reply.started": "2025-07-12T23:19:43.362153Z"
    }
   },
   "outputs": [
    {
     "data": {
      "text/plain": [
       "3389195"
      ]
     },
     "execution_count": 56,
     "metadata": {},
     "output_type": "execute_result"
    }
   ],
   "source": [
    "len(w1_ims_raw)"
   ]
  },
  {
   "cell_type": "code",
   "execution_count": 57,
   "id": "b60329b5-8094-4092-9361-3601f2163987",
   "metadata": {
    "execution": {
     "iopub.execute_input": "2025-07-12T23:19:45.607102Z",
     "iopub.status.busy": "2025-07-12T23:19:45.606489Z",
     "iopub.status.idle": "2025-07-12T23:20:14.189450Z",
     "shell.execute_reply": "2025-07-12T23:20:14.188925Z",
     "shell.execute_reply.started": "2025-07-12T23:19:45.607061Z"
    }
   },
   "outputs": [],
   "source": [
    "np.save(\"raw_W1_ims_singles\", w1_ims_raw)"
   ]
  }
 ],
 "metadata": {
  "kernelspec": {
   "display_name": "Python 3 (ipykernel)",
   "language": "python",
   "name": "python3"
  },
  "language_info": {
   "codemirror_mode": {
    "name": "ipython",
    "version": 3
   },
   "file_extension": ".py",
   "mimetype": "text/x-python",
   "name": "python",
   "nbconvert_exporter": "python",
   "pygments_lexer": "ipython3",
   "version": "3.11.4"
  }
 },
 "nbformat": 4,
 "nbformat_minor": 5
}
