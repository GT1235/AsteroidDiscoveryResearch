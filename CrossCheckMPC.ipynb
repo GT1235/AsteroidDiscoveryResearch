{
 "cells": [
  {
   "cell_type": "markdown",
   "id": "9694ad6e-3a76-47b2-8294-9a0564bf271c",
   "metadata": {
    "execution": {
     "iopub.execute_input": "2025-07-12T22:01:47.137896Z",
     "iopub.status.busy": "2025-07-12T22:01:47.137295Z",
     "iopub.status.idle": "2025-07-12T22:01:47.142779Z",
     "shell.execute_reply": "2025-07-12T22:01:47.141639Z",
     "shell.execute_reply.started": "2025-07-12T22:01:47.137831Z"
    }
   },
   "source": [
    "# initial data extraction"
   ]
  },
  {
   "cell_type": "code",
   "execution_count": null,
   "id": "9dd569a8-7f93-43ec-a475-d4f92889bdec",
   "metadata": {
    "execution": {
     "iopub.execute_input": "2025-07-06T01:32:31.932350Z",
     "iopub.status.busy": "2025-07-06T01:32:31.931611Z",
     "iopub.status.idle": "2025-07-06T01:33:04.339934Z",
     "shell.execute_reply": "2025-07-06T01:33:04.338957Z",
     "shell.execute_reply.started": "2025-07-06T01:32:31.932290Z"
    }
   },
   "outputs": [],
   "source": [
    "import requests\n",
    "import gzip\n",
    "import shutil\n",
    "\n",
    "# url = \"https://www.minorplanetcenter.net/iau/ECS/MPCAT-OBS/NumObs.txt.gz\"\n",
    "url = \"https://www.minorplanetcenter.net/iau/ECS/MPCAT-OBS/midmonth/UnnObs.txt.gz\"\n",
    "output_filename = \"MPC_full_UnNumObs.txt\"\n",
    "\n",
    "try:\n",
    "    response = requests.get(url, stream=True)\n",
    "    response.raise_for_status()\n",
    "\n",
    "    with gzip.GzipFile(fileobj=response.raw, mode='rb') as gz_file:\n",
    "        with open(output_filename, 'wb') as out_file:\n",
    "            shutil.copyfileobj(gz_file, out_file)\n",
    "\n",
    "    print(f\"File downloaded and decompressed successfully to {output_filename}\")\n",
    "\n",
    "except requests.exceptions.RequestException as e:\n",
    "    print(f\"Error downloading the file: {e}\")\n"
   ]
  },
  {
   "cell_type": "code",
   "execution_count": 111,
   "id": "a4dcd966-f7e2-461c-a486-2bf3fa5838bf",
   "metadata": {
    "execution": {
     "iopub.execute_input": "2025-06-30T22:21:37.157432Z",
     "iopub.status.busy": "2025-06-30T22:21:37.156874Z",
     "iopub.status.idle": "2025-06-30T22:21:49.140462Z",
     "shell.execute_reply": "2025-06-30T22:21:49.139136Z",
     "shell.execute_reply.started": "2025-06-30T22:21:37.157390Z"
    },
    "scrolled": true
   },
   "outputs": [
    {
     "name": "stdout",
     "output_type": "stream",
     "text": [
      "Processed 1,000,000 lines...\n",
      "Processed 2,000,000 lines...\n",
      "Processed 3,000,000 lines...\n",
      "Processed 4,000,000 lines...\n",
      "Processed 5,000,000 lines...\n",
      "Processed 6,000,000 lines...\n",
      "Processed 7,000,000 lines...\n",
      "Processed 8,000,000 lines...\n",
      "Processed 9,000,000 lines...\n",
      "Processed 10,000,000 lines...\n",
      "Processed 11,000,000 lines...\n",
      "Processed 12,000,000 lines...\n",
      "Processed 13,000,000 lines...\n",
      "Processed 14,000,000 lines...\n",
      "Processed 15,000,000 lines...\n",
      "Processed 16,000,000 lines...\n",
      "Processed 17,000,000 lines...\n",
      "Processed 18,000,000 lines...\n",
      "Processed 19,000,000 lines...\n",
      "Processed 20,000,000 lines...\n",
      "Processed 21,000,000 lines...\n",
      "Processed 22,000,000 lines...\n",
      "Processed 23,000,000 lines...\n",
      "Processed 24,000,000 lines...\n",
      "Processed 25,000,000 lines...\n",
      "Processed 26,000,000 lines...\n",
      "Processed 27,000,000 lines...\n",
      "Processed 28,000,000 lines...\n",
      "Processed 29,000,000 lines...\n",
      "Processed 30,000,000 lines...\n",
      "\n",
      "Total number of lines: 30,769,503\n"
     ]
    }
   ],
   "source": [
    "filename = \"MPC_full_UnNumObs.txt\"\n",
    "line_count = 0\n",
    "progress_interval = 1_000_000  # Every 1 million lines\n",
    "\n",
    "try:\n",
    "    with open(filename, 'r', encoding='utf-8', errors='ignore') as f:\n",
    "        for line in f:\n",
    "            line_count += 1\n",
    "            if line_count % progress_interval == 0:\n",
    "                print(f\"Processed {line_count:,} lines...\")\n",
    "\n",
    "    print(f\"\\nTotal number of lines: {line_count:,}\")\n",
    "except FileNotFoundError:\n",
    "    print(f\"File not found: {filename}\")\n"
   ]
  },
  {
   "cell_type": "code",
   "execution_count": 137,
   "id": "c7b724b2-4a9a-43ae-afcc-8d8311c9f491",
   "metadata": {
    "execution": {
     "iopub.execute_input": "2025-06-30T22:43:12.329408Z",
     "iopub.status.busy": "2025-06-30T22:43:12.328935Z",
     "iopub.status.idle": "2025-06-30T22:43:21.386517Z",
     "shell.execute_reply": "2025-06-30T22:43:21.385218Z",
     "shell.execute_reply.started": "2025-06-30T22:43:12.329372Z"
    },
    "scrolled": true
   },
   "outputs": [
    {
     "name": "stdout",
     "output_type": "stream",
     "text": [
      "Processed 5,000,000 lines...\n",
      "Processed 10,000,000 lines...\n",
      "Processed 15,000,000 lines...\n",
      "Processed 20,000,000 lines...\n",
      "Processed 25,000,000 lines...\n",
      "Processed 30,000,000 lines...\n",
      "\n",
      "Done! Found 233,701 lines with obs code C51.\n",
      "\n",
      "First matching line:\n",
      "     J88P01F  S2019 10 04.55999 20 21 26.60 -15 30 37.2          20   RL~3LJFC51\n"
     ]
    }
   ],
   "source": [
    "input_filename = \"MPC_full_UnNumObs.txt\"\n",
    "output_filename = \"Unnumbered_WISE_C51_observations.txt\"\n",
    "\n",
    "line_count = 0\n",
    "match_count = 0\n",
    "progress_interval = 5_000_000\n",
    "first_match = None\n",
    "\n",
    "try:\n",
    "    with open(input_filename, 'r', encoding='utf-8', errors='ignore') as infile, \\\n",
    "         open(output_filename, 'w', encoding='utf-8') as outfile:\n",
    "        \n",
    "        for line in infile:\n",
    "            line_count += 1\n",
    "\n",
    "            # if line.rstrip().endswith(\"C51\") and (line[71] == \"L\"):\n",
    "            if line.rstrip().endswith(\"C51\") and (\"+ \" not in line) and (\"- \" not in line) and (line[71] == \"L\"):\n",
    "                if first_match is None:\n",
    "                    first_match = line.rstrip()\n",
    "                outfile.write(line)\n",
    "                match_count += 1\n",
    "\n",
    "            if line_count % progress_interval == 0:\n",
    "                print(f\"Processed {line_count:,} lines...\")\n",
    "\n",
    "    print(f\"\\nDone! Found {match_count:,} lines with obs code C51.\")\n",
    "    if first_match:\n",
    "        print(f\"\\nFirst matching line:\\n{first_match}\")\n",
    "    else:\n",
    "        print(\"No C51 lines found.\")\n",
    "\n",
    "except FileNotFoundError:\n",
    "    print(f\"File not found: {input_filename}\")\n"
   ]
  },
  {
   "cell_type": "code",
   "execution_count": 15,
   "id": "75650852-88af-4142-8999-ecc1fcb68357",
   "metadata": {
    "execution": {
     "iopub.execute_input": "2025-07-12T22:07:29.975617Z",
     "iopub.status.busy": "2025-07-12T22:07:29.975027Z",
     "iopub.status.idle": "2025-07-12T22:07:31.254568Z",
     "shell.execute_reply": "2025-07-12T22:07:31.254024Z",
     "shell.execute_reply.started": "2025-07-12T22:07:29.975575Z"
    }
   },
   "outputs": [],
   "source": [
    "import numpy as np\n",
    "import ast\n",
    "\n",
    "from __future__ import print_function, division\n",
    "from PyAstronomy import pyasl\n",
    "import matplotlib.pyplot as plt\n",
    "import astropy.units as u\n",
    "from astropy.io import ascii\n",
    "from astropy.coordinates import SkyCoord\n",
    "import pandas as pd\n",
    "\n",
    "def to_rad(ra, dec):\n",
    "    from astropy import units as u\n",
    "    from astropy.coordinates import SkyCoord\n",
    "    c = SkyCoord(ra=ra,\n",
    "    dec=dec,\n",
    "    unit=(u.hourangle, u.deg),\n",
    "    frame='icrs')\n",
    "    ra_rad = c.ra.wrap_at(180 * u.deg).radian\n",
    "    dec_rad = c.dec.radian\n",
    "    return ra_rad, dec_rad\n",
    "\n",
    "import datetime\n",
    "\n",
    "\n",
    "from astropy.time import Time\n",
    "\n",
    "def date_to_mjd_astropy(year, month, day):\n",
    "    return Time(datetime.datetime(year, month, day)).mjd\n",
    "\n",
    "\n",
    "def parse_date(input_date):\n",
    "\n",
    "    year, month, day_decimal = map(float, input_date.split())\n",
    "\n",
    "    day = int(day_decimal)\n",
    "    decimal_part = day_decimal - day\n",
    "\n",
    "    hours, hour_decimal = divmod(decimal_part * 24, 1)\n",
    "    minutes, seconds = divmod(hour_decimal * 60, 1)\n",
    "    seconds *= 60\n",
    "\n",
    "    mjd_time = date_to_mjd(int(year), int(month), day) + (hours / 24) + (minutes / 1440) + (seconds / 86400)\n",
    "\n",
    "    return mjd_time\n",
    "import math\n",
    "from astropy.time import Time\n",
    "import datetime\n",
    "def decimal_days_to_hms(decimal_days):\n",
    "    total_seconds = int(decimal_days * 24 * 60 * 60)\n",
    "    \n",
    "    days = total_seconds // (24 * 60 * 60)\n",
    "    remaining_seconds = total_seconds % (24 * 60 * 60)\n",
    "    hours = remaining_seconds // (60 * 60)\n",
    "    remaining_seconds %= (60 * 60)\n",
    "    minutes = remaining_seconds // 60\n",
    "    seconds = remaining_seconds % 60\n",
    "    \n",
    "    return days, hours, minutes, seconds\n"
   ]
  },
  {
   "cell_type": "markdown",
   "id": "4a36eb99-acda-4017-85c8-a2bd369d8677",
   "metadata": {},
   "source": [
    "# Find asteroids that should be detected in a given search region"
   ]
  },
  {
   "cell_type": "code",
   "execution_count": 153,
   "id": "30507169-8200-420a-a249-e4397c2e057a",
   "metadata": {
    "execution": {
     "iopub.execute_input": "2025-07-01T08:41:55.522081Z",
     "iopub.status.busy": "2025-07-01T08:41:55.521475Z",
     "iopub.status.idle": "2025-07-01T08:41:58.320708Z",
     "shell.execute_reply": "2025-07-01T08:41:58.320125Z",
     "shell.execute_reply.started": "2025-07-01T08:41:55.522038Z"
    }
   },
   "outputs": [],
   "source": [
    "with open(\"WISE_C51_observations.txt\") as f:\n",
    "    lines = f.readlines()"
   ]
  },
  {
   "cell_type": "code",
   "execution_count": 60,
   "id": "0bdba303-79d0-481c-9c8d-467a03afbe5c",
   "metadata": {
    "execution": {
     "iopub.execute_input": "2025-07-12T20:34:33.012309Z",
     "iopub.status.busy": "2025-07-12T20:34:33.011701Z",
     "iopub.status.idle": "2025-07-12T21:32:18.108947Z",
     "shell.execute_reply": "2025-07-12T21:32:18.108449Z",
     "shell.execute_reply.started": "2025-07-12T20:34:33.012267Z"
    },
    "scrolled": true
   },
   "outputs": [
    {
     "name": "stderr",
     "output_type": "stream",
     "text": [
      "  3%|▎         | 100131/3859777 [01:29<54:49, 1142.81it/s] "
     ]
    },
    {
     "name": "stdout",
     "output_type": "stream",
     "text": [
      "On line 100000\n"
     ]
    },
    {
     "name": "stderr",
     "output_type": "stream",
     "text": [
      "  5%|▌         | 200150/3859777 [03:00<52:25, 1163.44it/s]  "
     ]
    },
    {
     "name": "stdout",
     "output_type": "stream",
     "text": [
      "On line 200000\n"
     ]
    },
    {
     "name": "stderr",
     "output_type": "stream",
     "text": [
      "  8%|▊         | 300171/3859777 [04:30<52:56, 1120.65it/s]  "
     ]
    },
    {
     "name": "stdout",
     "output_type": "stream",
     "text": [
      "On line 300000\n"
     ]
    },
    {
     "name": "stderr",
     "output_type": "stream",
     "text": [
      " 10%|█         | 400124/3859777 [06:00<53:08, 1084.94it/s] "
     ]
    },
    {
     "name": "stdout",
     "output_type": "stream",
     "text": [
      "On line 400000\n"
     ]
    },
    {
     "name": "stderr",
     "output_type": "stream",
     "text": [
      " 13%|█▎        | 500124/3859777 [07:30<52:20, 1069.75it/s] "
     ]
    },
    {
     "name": "stdout",
     "output_type": "stream",
     "text": [
      "On line 500000\n"
     ]
    },
    {
     "name": "stderr",
     "output_type": "stream",
     "text": [
      " 16%|█▌        | 600179/3859777 [09:01<48:04, 1130.11it/s] "
     ]
    },
    {
     "name": "stdout",
     "output_type": "stream",
     "text": [
      "On line 600000\n"
     ]
    },
    {
     "name": "stderr",
     "output_type": "stream",
     "text": [
      " 18%|█▊        | 700169/3859777 [10:31<51:14, 1027.74it/s] "
     ]
    },
    {
     "name": "stdout",
     "output_type": "stream",
     "text": [
      "On line 700000\n"
     ]
    },
    {
     "name": "stderr",
     "output_type": "stream",
     "text": [
      " 21%|██        | 800152/3859777 [12:01<47:05, 1083.00it/s] "
     ]
    },
    {
     "name": "stdout",
     "output_type": "stream",
     "text": [
      "On line 800000\n"
     ]
    },
    {
     "name": "stderr",
     "output_type": "stream",
     "text": [
      " 23%|██▎       | 900160/3859777 [13:31<43:49, 1125.75it/s]"
     ]
    },
    {
     "name": "stdout",
     "output_type": "stream",
     "text": [
      "On line 900000\n"
     ]
    },
    {
     "name": "stderr",
     "output_type": "stream",
     "text": [
      " 26%|██▌       | 1000191/3859777 [15:01<41:16, 1154.72it/s]"
     ]
    },
    {
     "name": "stdout",
     "output_type": "stream",
     "text": [
      "On line 1000000\n"
     ]
    },
    {
     "name": "stderr",
     "output_type": "stream",
     "text": [
      " 29%|██▊       | 1100173/3859777 [16:31<40:52, 1125.39it/s]"
     ]
    },
    {
     "name": "stdout",
     "output_type": "stream",
     "text": [
      "On line 1100000\n"
     ]
    },
    {
     "name": "stderr",
     "output_type": "stream",
     "text": [
      " 31%|███       | 1200178/3859777 [18:01<38:14, 1159.34it/s]"
     ]
    },
    {
     "name": "stdout",
     "output_type": "stream",
     "text": [
      "On line 1200000\n"
     ]
    },
    {
     "name": "stderr",
     "output_type": "stream",
     "text": [
      " 34%|███▎      | 1300197/3859777 [19:31<39:29, 1080.07it/s]"
     ]
    },
    {
     "name": "stdout",
     "output_type": "stream",
     "text": [
      "On line 1300000\n"
     ]
    },
    {
     "name": "stderr",
     "output_type": "stream",
     "text": [
      " 36%|███▋      | 1400157/3859777 [21:01<36:22, 1127.16it/s]"
     ]
    },
    {
     "name": "stdout",
     "output_type": "stream",
     "text": [
      "On line 1400000\n"
     ]
    },
    {
     "name": "stderr",
     "output_type": "stream",
     "text": [
      " 39%|███▉      | 1500197/3859777 [22:31<35:48, 1098.16it/s]"
     ]
    },
    {
     "name": "stdout",
     "output_type": "stream",
     "text": [
      "On line 1500000\n"
     ]
    },
    {
     "name": "stderr",
     "output_type": "stream",
     "text": [
      " 41%|████▏     | 1600184/3859777 [24:00<35:53, 1049.44it/s]"
     ]
    },
    {
     "name": "stdout",
     "output_type": "stream",
     "text": [
      "On line 1600000\n"
     ]
    },
    {
     "name": "stderr",
     "output_type": "stream",
     "text": [
      " 44%|████▍     | 1700137/3859777 [25:30<33:22, 1078.54it/s]"
     ]
    },
    {
     "name": "stdout",
     "output_type": "stream",
     "text": [
      "On line 1700000\n"
     ]
    },
    {
     "name": "stderr",
     "output_type": "stream",
     "text": [
      " 47%|████▋     | 1800151/3859777 [27:00<31:41, 1082.97it/s]"
     ]
    },
    {
     "name": "stdout",
     "output_type": "stream",
     "text": [
      "On line 1800000\n"
     ]
    },
    {
     "name": "stderr",
     "output_type": "stream",
     "text": [
      " 49%|████▉     | 1900209/3859777 [28:29<29:20, 1112.94it/s]"
     ]
    },
    {
     "name": "stdout",
     "output_type": "stream",
     "text": [
      "On line 1900000\n"
     ]
    },
    {
     "name": "stderr",
     "output_type": "stream",
     "text": [
      " 52%|█████▏    | 2000130/3859777 [29:59<28:06, 1102.59it/s]"
     ]
    },
    {
     "name": "stdout",
     "output_type": "stream",
     "text": [
      "On line 2000000\n"
     ]
    },
    {
     "name": "stderr",
     "output_type": "stream",
     "text": [
      " 54%|█████▍    | 2100181/3859777 [31:29<29:47, 984.37it/s] "
     ]
    },
    {
     "name": "stdout",
     "output_type": "stream",
     "text": [
      "On line 2100000\n"
     ]
    },
    {
     "name": "stderr",
     "output_type": "stream",
     "text": [
      " 57%|█████▋    | 2200172/3859777 [33:00<24:18, 1137.54it/s]"
     ]
    },
    {
     "name": "stdout",
     "output_type": "stream",
     "text": [
      "On line 2200000\n"
     ]
    },
    {
     "name": "stderr",
     "output_type": "stream",
     "text": [
      " 60%|█████▉    | 2300207/3859777 [34:29<22:39, 1147.20it/s]"
     ]
    },
    {
     "name": "stdout",
     "output_type": "stream",
     "text": [
      "On line 2300000\n"
     ]
    },
    {
     "name": "stderr",
     "output_type": "stream",
     "text": [
      " 62%|██████▏   | 2400139/3859777 [35:59<22:16, 1092.53it/s]"
     ]
    },
    {
     "name": "stdout",
     "output_type": "stream",
     "text": [
      "On line 2400000\n"
     ]
    },
    {
     "name": "stderr",
     "output_type": "stream",
     "text": [
      " 65%|██████▍   | 2500183/3859777 [37:29<19:53, 1139.36it/s]"
     ]
    },
    {
     "name": "stdout",
     "output_type": "stream",
     "text": [
      "On line 2500000\n"
     ]
    },
    {
     "name": "stderr",
     "output_type": "stream",
     "text": [
      " 67%|██████▋   | 2600225/3859777 [38:59<18:15, 1149.56it/s]"
     ]
    },
    {
     "name": "stdout",
     "output_type": "stream",
     "text": [
      "On line 2600000\n"
     ]
    },
    {
     "name": "stderr",
     "output_type": "stream",
     "text": [
      " 70%|██████▉   | 2700126/3859777 [40:29<18:41, 1034.19it/s]"
     ]
    },
    {
     "name": "stdout",
     "output_type": "stream",
     "text": [
      "On line 2700000\n"
     ]
    },
    {
     "name": "stderr",
     "output_type": "stream",
     "text": [
      " 73%|███████▎  | 2800185/3859777 [41:59<15:54, 1110.49it/s]"
     ]
    },
    {
     "name": "stdout",
     "output_type": "stream",
     "text": [
      "On line 2800000\n"
     ]
    },
    {
     "name": "stderr",
     "output_type": "stream",
     "text": [
      " 75%|███████▌  | 2900230/3859777 [43:28<13:49, 1156.21it/s]"
     ]
    },
    {
     "name": "stdout",
     "output_type": "stream",
     "text": [
      "On line 2900000\n"
     ]
    },
    {
     "name": "stderr",
     "output_type": "stream",
     "text": [
      " 78%|███████▊  | 3000130/3859777 [44:58<12:26, 1151.78it/s]"
     ]
    },
    {
     "name": "stdout",
     "output_type": "stream",
     "text": [
      "On line 3000000\n"
     ]
    },
    {
     "name": "stderr",
     "output_type": "stream",
     "text": [
      " 80%|████████  | 3100202/3859777 [46:27<11:09, 1133.85it/s]"
     ]
    },
    {
     "name": "stdout",
     "output_type": "stream",
     "text": [
      "On line 3100000\n"
     ]
    },
    {
     "name": "stderr",
     "output_type": "stream",
     "text": [
      " 83%|████████▎ | 3200157/3859777 [47:57<10:08, 1084.10it/s]"
     ]
    },
    {
     "name": "stdout",
     "output_type": "stream",
     "text": [
      "On line 3200000\n"
     ]
    },
    {
     "name": "stderr",
     "output_type": "stream",
     "text": [
      " 86%|████████▌ | 3300233/3859777 [49:26<08:30, 1095.25it/s]"
     ]
    },
    {
     "name": "stdout",
     "output_type": "stream",
     "text": [
      "On line 3300000\n"
     ]
    },
    {
     "name": "stderr",
     "output_type": "stream",
     "text": [
      " 88%|████████▊ | 3400237/3859777 [50:55<06:51, 1116.19it/s]"
     ]
    },
    {
     "name": "stdout",
     "output_type": "stream",
     "text": [
      "On line 3400000\n"
     ]
    },
    {
     "name": "stderr",
     "output_type": "stream",
     "text": [
      " 91%|█████████ | 3500217/3859777 [52:25<05:26, 1100.36it/s]"
     ]
    },
    {
     "name": "stdout",
     "output_type": "stream",
     "text": [
      "On line 3500000\n"
     ]
    },
    {
     "name": "stderr",
     "output_type": "stream",
     "text": [
      " 93%|█████████▎| 3600160/3859777 [53:54<03:49, 1129.70it/s]"
     ]
    },
    {
     "name": "stdout",
     "output_type": "stream",
     "text": [
      "On line 3600000\n"
     ]
    },
    {
     "name": "stderr",
     "output_type": "stream",
     "text": [
      " 96%|█████████▌| 3700219/3859777 [55:22<02:22, 1123.04it/s]"
     ]
    },
    {
     "name": "stdout",
     "output_type": "stream",
     "text": [
      "On line 3700000\n"
     ]
    },
    {
     "name": "stderr",
     "output_type": "stream",
     "text": [
      " 98%|█████████▊| 3800170/3859777 [56:51<00:52, 1143.40it/s]"
     ]
    },
    {
     "name": "stdout",
     "output_type": "stream",
     "text": [
      "On line 3800000\n"
     ]
    },
    {
     "name": "stderr",
     "output_type": "stream",
     "text": [
      "100%|██████████| 3859777/3859777 [57:45<00:00, 1113.91it/s]\n"
     ]
    }
   ],
   "source": [
    "from tqdm import tqdm\n",
    "search_RA = (49, 55)\n",
    "search_Dec = (19, 25)\n",
    "search_MJD = (59805, 59814)\n",
    "\n",
    "known_ras = []\n",
    "known_decs = []\n",
    "known_mjds = []\n",
    "known_lines = []\n",
    "\n",
    "i = 0\n",
    "\n",
    "# with open(\"./WISE_C51_observations.txt\", 'r', encoding='utf-8', errors='ignore') as infile:\n",
    "#     for line in infile:\n",
    "\n",
    "for line in tqdm(lines):\n",
    "    if (\"+ \" not in line) and (\"- \" not in line):\n",
    "        y = line[15:19]\n",
    "        month = line[20:22]\n",
    "        if month[0] == \"0\":\n",
    "            month = month[1]\n",
    "        day = float(line[23:31])\n",
    "        days, hours, minutes, seconds = decimal_days_to_hms(day)\n",
    "        \n",
    "        t = Time({'year': int(y), 'month': int(month), 'day': days, 'hour': hours, 'minute': minutes, 'second': seconds},\n",
    "                 scale='utc')\n",
    "        convertedMJD = t.mjd \n",
    "\n",
    "        ra_str = line[32:43]\n",
    "        dec_str = line[44:55]\n",
    "        co = ra_str + \" \" + dec_str\n",
    "        c = SkyCoord(co, unit=(u.hourangle, u.deg))\n",
    "        convertedRA = c.ra.degree\n",
    "        convertedDEC = c.dec.degree\n",
    "    \n",
    "        if (\"+ \" not in line) and (\"- \" not in line) and ((search_RA[0]) <= convertedRA <= (search_RA[1])) and ((search_Dec[0]) <= convertedDEC <= (search_Dec[1])) and ((search_MJD[0]) <= convertedMJD <= (search_MJD[1])):\n",
    "            \n",
    "            known_ras.append(convertedRA)\n",
    "            known_decs.append(convertedDEC)\n",
    "            known_mjds.append(convertedMJD)\n",
    "            known_lines.append(line)\n",
    "\n",
    "        i+=1\n",
    "        if i % 100000 == 0:\n",
    "            print(\"On line %d\" % i)\n"
   ]
  },
  {
   "cell_type": "code",
   "execution_count": 64,
   "id": "99680aa3-fd5a-498d-92b9-72b41cbddd01",
   "metadata": {
    "execution": {
     "iopub.execute_input": "2025-07-12T21:33:19.682245Z",
     "iopub.status.busy": "2025-07-12T21:33:19.681627Z",
     "iopub.status.idle": "2025-07-12T21:33:19.725837Z",
     "shell.execute_reply": "2025-07-12T21:33:19.724652Z",
     "shell.execute_reply.started": "2025-07-12T21:33:19.682198Z"
    }
   },
   "outputs": [],
   "source": [
    "np.save(\"WISE_MPC_Known_Lines_STSsearch\", known_lines)"
   ]
  },
  {
   "cell_type": "code",
   "execution_count": 68,
   "id": "00b0c1b8-8a96-49f5-b048-4294c9ff8c1a",
   "metadata": {
    "execution": {
     "iopub.execute_input": "2025-07-12T21:39:32.206796Z",
     "iopub.status.busy": "2025-07-12T21:39:32.206240Z",
     "iopub.status.idle": "2025-07-12T21:39:32.306279Z",
     "shell.execute_reply": "2025-07-12T21:39:32.305710Z",
     "shell.execute_reply.started": "2025-07-12T21:39:32.206753Z"
    }
   },
   "outputs": [],
   "source": [
    "%matplotlib ipympl"
   ]
  },
  {
   "cell_type": "code",
   "execution_count": 386,
   "id": "3c7ac9fa-9b02-46c1-aa6f-7c56a11a24a4",
   "metadata": {
    "execution": {
     "iopub.execute_input": "2025-07-06T00:49:49.987632Z",
     "iopub.status.busy": "2025-07-06T00:49:49.987110Z",
     "iopub.status.idle": "2025-07-06T00:49:50.097029Z",
     "shell.execute_reply": "2025-07-06T00:49:50.096507Z",
     "shell.execute_reply.started": "2025-07-06T00:49:49.987589Z"
    }
   },
   "outputs": [
    {
     "data": {
      "text/plain": [
       "<matplotlib.legend.Legend at 0x7fb96961b550>"
      ]
     },
     "execution_count": 386,
     "metadata": {},
     "output_type": "execute_result"
    },
    {
     "data": {
      "application/vnd.jupyter.widget-view+json": {
       "model_id": "74440756153348238979f2ccc1d5768e",
       "version_major": 2,
       "version_minor": 0
      },
      "image/png": "[encoded data removed]",
      "text/html": [
       "\n",
       "            <div style=\"display: inline-block;\">\n",
       "                <div class=\"jupyter-widgets widget-label\" style=\"text-align: center;\">\n",
       "                    Figure\n",
       "                </div>\n",
       "                <img src='data:image/png;base64,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' width=640.0/>\n",
       "            </div>\n",
       "        "
      ],
      "text/plain": [
       "Canvas(toolbar=Toolbar(toolitems=[('Home', 'Reset original view', 'home', 'home'), ('Back', 'Back to previous …"
      ]
     },
     "metadata": {},
     "output_type": "display_data"
    }
   ],
   "source": [
    "plt.figure()\n",
    "# plt.plot(known_ras, known_decs, \".r\", alpha=0.5, label=\"Known Asteroid\")\n",
    "plt.plot(unmatched_known_ras[(unmatched_known_mjds >= 59805.2) & (unmatched_known_mjds <= 59813.637)], unmatched_known_decs[(unmatched_known_mjds >= 59805.2) & (unmatched_known_mjds <= 59813.637)], \".r\", alpha=0.5, label=\"Unrecovered Known Asteroid Detection\")\n",
    "\n",
    "plt.plot(matched_new_ras, matched_new_decs, \"+g\", alpha=1, markersize=10, label=\"CNN Pipeline Recovered Detection\")\n",
    "\n",
    "\n",
    "plt.xlabel(\"Right Ascension (deg)\")\n",
    "plt.ylabel(\"Declination (deg)\")\n",
    "plt.title(\"Sky-Plane: Recovered vs. Known Asteroids\")\n",
    "plt.legend()"
   ]
  },
  {
   "cell_type": "code",
   "execution_count": 414,
   "id": "7db89a4c-0066-4242-8dc4-23ff150db7d0",
   "metadata": {
    "execution": {
     "iopub.execute_input": "2025-07-06T01:31:08.614423Z",
     "iopub.status.busy": "2025-07-06T01:31:08.613570Z",
     "iopub.status.idle": "2025-07-06T01:31:08.622407Z",
     "shell.execute_reply": "2025-07-06T01:31:08.621067Z",
     "shell.execute_reply.started": "2025-07-06T01:31:08.614354Z"
    }
   },
   "outputs": [
    {
     "data": {
      "text/plain": [
       "583"
      ]
     },
     "execution_count": 414,
     "metadata": {},
     "output_type": "execute_result"
    }
   ],
   "source": [
    "len(known_decs)"
   ]
  },
  {
   "cell_type": "markdown",
   "id": "573d5906-473d-44a8-8d9f-8c72c6aaefda",
   "metadata": {},
   "source": [
    "# Load known MPC asteroids"
   ]
  },
  {
   "cell_type": "code",
   "execution_count": 1,
   "id": "de4d2953-25ab-4e22-b7e9-97ae53b9a3f8",
   "metadata": {
    "execution": {
     "iopub.execute_input": "2025-09-30T00:48:50.132506Z",
     "iopub.status.busy": "2025-09-30T00:48:50.131992Z",
     "iopub.status.idle": "2025-09-30T00:48:50.272342Z",
     "shell.execute_reply": "2025-09-30T00:48:50.271555Z",
     "shell.execute_reply.started": "2025-09-30T00:48:50.132465Z"
    }
   },
   "outputs": [],
   "source": [
    "import numpy as np"
   ]
  },
  {
   "cell_type": "code",
   "execution_count": 2,
   "id": "1c254161-1ac1-485a-8b2e-804044ea5b76",
   "metadata": {
    "execution": {
     "iopub.execute_input": "2025-09-30T00:48:50.752850Z",
     "iopub.status.busy": "2025-09-30T00:48:50.752490Z",
     "iopub.status.idle": "2025-09-30T00:48:50.757435Z",
     "shell.execute_reply": "2025-09-30T00:48:50.756777Z",
     "shell.execute_reply.started": "2025-09-30T00:48:50.752829Z"
    }
   },
   "outputs": [],
   "source": [
    "known_lines = np.load(\"WISE_MPC_Known_Lines_STSsearch.npy\")"
   ]
  },
  {
   "cell_type": "code",
   "execution_count": 40,
   "id": "74d40326-f2c5-4d2e-9997-41ac00368fcd",
   "metadata": {
    "execution": {
     "iopub.execute_input": "2025-09-30T04:48:30.181386Z",
     "iopub.status.busy": "2025-09-30T04:48:30.180882Z",
     "iopub.status.idle": "2025-09-30T04:48:30.192516Z",
     "shell.execute_reply": "2025-09-30T04:48:30.191339Z",
     "shell.execute_reply.started": "2025-09-30T04:48:30.181350Z"
    },
    "scrolled": true
   },
   "outputs": [],
   "source": [
    "import numpy as np\n",
    "known_ras = np.load(\"./known_asteroids_S1_Numbered_RAs.npy\")\n",
    "known_decs = np.load(\"./known_asteroids_S1_Numbered_Decs.npy\")\n",
    "known_mjds = np.load(\"./known_asteroids_S1_Numbered_MJDs.npy\")"
   ]
  },
  {
   "cell_type": "markdown",
   "id": "0fdb0115-e891-42f2-a486-deabe047537b",
   "metadata": {},
   "source": [
    "\n",
    "# Filter out Known Asteroids in this region"
   ]
  },
  {
   "cell_type": "code",
   "execution_count": 42,
   "id": "3f7d0f2a-78fb-4f3f-a20e-6f495f2691b9",
   "metadata": {
    "execution": {
     "iopub.execute_input": "2025-09-30T04:48:38.563486Z",
     "iopub.status.busy": "2025-09-30T04:48:38.562959Z",
     "iopub.status.idle": "2025-09-30T04:48:38.753611Z",
     "shell.execute_reply": "2025-09-30T04:48:38.752187Z",
     "shell.execute_reply.started": "2025-09-30T04:48:38.563442Z"
    }
   },
   "outputs": [],
   "source": [
    "new_ras = np.load(\"./S1_v3_Results/pt4_RAs_CoordCNN.npy\")\n",
    "new_decs = np.load(\"./S1_v3_Results/pt4_Decs_CoordCNN.npy\")\n",
    "new_mjds = np.load(\"./S1_v3_Results/pt4MJDs_CoordCNN.npy\")"
   ]
  },
  {
   "cell_type": "code",
   "execution_count": null,
   "id": "ff5739e1-3353-4172-ba8d-8036c4cd533f",
   "metadata": {},
   "outputs": [],
   "source": []
  },
  {
   "cell_type": "code",
   "execution_count": 43,
   "id": "fa76467e-ef94-45fb-b561-4a4c8d5e1ee1",
   "metadata": {
    "execution": {
     "iopub.execute_input": "2025-09-30T04:48:41.801559Z",
     "iopub.status.busy": "2025-09-30T04:48:41.800990Z",
     "iopub.status.idle": "2025-09-30T04:48:43.527370Z",
     "shell.execute_reply": "2025-09-30T04:48:43.526609Z",
     "shell.execute_reply.started": "2025-09-30T04:48:41.801514Z"
    },
    "scrolled": true
   },
   "outputs": [],
   "source": [
    "import numpy as np\n",
    "\n",
    "new_ras   = np.asarray(new_ras,   dtype=float)\n",
    "new_decs  = np.asarray(new_decs,  dtype=float)\n",
    "new_mjds  = np.asarray(new_mjds,  dtype=float)\n",
    "\n",
    "known_ras  = np.asarray(known_ras,  dtype=float)[(known_mjds >= 59805.2) & (known_mjds <= 59813.637)]\n",
    "known_decs = np.asarray(known_decs, dtype=float)[(known_mjds >= 59805.2) & (known_mjds <= 59813.637)]\n",
    "known_mjds = np.asarray(known_mjds, dtype=float)[(known_mjds >= 59805.2) & (known_mjds <= 59813.637)]\n",
    "\n",
    "tol_ra  = 0.011 #deg ~4 pixel\n",
    "tol_dec = 0.011\n",
    "tol_mjd = 5.787e-5#  5sec\n",
    "\n",
    "matches = [] \n",
    "for ra, dec, mjd in zip(new_ras, new_decs, new_mjds):\n",
    "    diff_ra  = np.abs(known_ras  - ra)\n",
    "    diff_dec = np.abs(known_decs - dec)\n",
    "    diff_mjd = np.abs(known_mjds - mjd)\n",
    "\n",
    "    hit_mask = (diff_ra <= tol_ra) & (diff_dec <= tol_dec) & (diff_mjd <= tol_mjd)\n",
    "\n",
    "    matches.append(np.nonzero(hit_mask)[0].tolist())\n",
    "\n",
    "matched_mask   = np.array([len(m) > 0 for m in matches], dtype=bool)\n",
    "unmatched_mask = ~matched_mask"
   ]
  },
  {
   "cell_type": "code",
   "execution_count": 73,
   "id": "78303313-af17-4437-9349-3272d57de24b",
   "metadata": {
    "execution": {
     "iopub.execute_input": "2025-09-30T05:05:13.010668Z",
     "iopub.status.busy": "2025-09-30T05:05:13.010120Z",
     "iopub.status.idle": "2025-09-30T05:05:13.535576Z",
     "shell.execute_reply": "2025-09-30T05:05:13.535044Z",
     "shell.execute_reply.started": "2025-09-30T05:05:13.010625Z"
    }
   },
   "outputs": [
    {
     "name": "stdout",
     "output_type": "stream",
     "text": [
      "Recovered 21 out of 35 asteroids (≥NNN detections)\n",
      "Percentage recovered: 60.00%\n"
     ]
    }
   ],
   "source": [
    "import numpy as np\n",
    "\n",
    "# Make sure new detections are arrays\n",
    "new_ras  = np.asarray(new_ras, dtype=float)\n",
    "new_decs = np.asarray(new_decs, dtype=float)\n",
    "new_mjds = np.asarray(new_mjds, dtype=float)\n",
    "\n",
    "# Tolerances\n",
    "tol_ra  = 0.011  # deg ~4 pixels\n",
    "tol_dec = 0.011  # deg ~4 pixels\n",
    "tol_mjd = 5.787e-5  # ~5 sec\n",
    "\n",
    "# Track recovered asteroids\n",
    "recovered_flags = []\n",
    "\n",
    "for asteroid in nested_array:\n",
    "    match_count = 0\n",
    "    for det in asteroid:\n",
    "        ra, dec, mjd = det[1], det[2], det[3]\n",
    "\n",
    "        diff_ra  = np.abs(new_ras  - ra)\n",
    "        diff_dec = np.abs(new_decs - dec)\n",
    "        diff_mjd = np.abs(new_mjds - mjd)\n",
    "\n",
    "        hit_mask = (diff_ra <= tol_ra) & (diff_dec <= tol_dec) & (diff_mjd <= tol_mjd)\n",
    "\n",
    "        if np.any(hit_mask):\n",
    "            match_count += 1\n",
    "\n",
    "    recovered_flags.append(match_count >= 4)\n",
    "\n",
    "recovered_flags = np.array(recovered_flags)\n",
    "percent_recovered = 100 * np.sum(recovered_flags) / len(recovered_flags)\n",
    "\n",
    "print(f\"Recovered {np.sum(recovered_flags)} out of {len(recovered_flags)} asteroids (≥NNN detections)\")\n",
    "print(f\"Percentage recovered: {percent_recovered:.2f}%\")\n"
   ]
  },
  {
   "cell_type": "code",
   "execution_count": 65,
   "id": "53566ea1-700b-45be-9978-8467af03cb2c",
   "metadata": {
    "execution": {
     "iopub.execute_input": "2025-09-30T04:59:25.685908Z",
     "iopub.status.busy": "2025-09-30T04:59:25.685192Z",
     "iopub.status.idle": "2025-09-30T04:59:25.693948Z",
     "shell.execute_reply": "2025-09-30T04:59:25.692538Z",
     "shell.execute_reply.started": "2025-09-30T04:59:25.685865Z"
    }
   },
   "outputs": [
    {
     "data": {
      "text/plain": [
       "583"
      ]
     },
     "execution_count": 65,
     "metadata": {},
     "output_type": "execute_result"
    }
   ],
   "source": [
    "len(hit_mask)"
   ]
  },
  {
   "cell_type": "code",
   "execution_count": 46,
   "id": "b176cd74-61be-4c70-a76f-a5699df9b128",
   "metadata": {
    "execution": {
     "iopub.execute_input": "2025-09-30T04:49:30.467681Z",
     "iopub.status.busy": "2025-09-30T04:49:30.467139Z",
     "iopub.status.idle": "2025-09-30T04:49:30.490871Z",
     "shell.execute_reply": "2025-09-30T04:49:30.489946Z",
     "shell.execute_reply.started": "2025-09-30T04:49:30.467636Z"
    }
   },
   "outputs": [
    {
     "name": "stdout",
     "output_type": "stream",
     "text": [
      "Matched 278 out of 583 known detections\n",
      "Percentage recovered: 47.68%\n"
     ]
    }
   ],
   "source": [
    "import numpy as np\n",
    "\n",
    "# Flatten all matched known indices from all new detections\n",
    "all_matched_known = [idx for sublist in matches for idx in sublist]\n",
    "all_matched_known = np.unique(all_matched_known)  # remove duplicates\n",
    "\n",
    "# Count how many known detections were matched\n",
    "n_known_total = len(known_ras)\n",
    "n_known_matched = len(all_matched_known)\n",
    "\n",
    "# Compute percentage\n",
    "percent_matched = 100 * n_known_matched / n_known_total\n",
    "\n",
    "print(f\"Matched {n_known_matched} out of {n_known_total} known detections\")\n",
    "print(f\"Percentage recovered: {percent_matched:.2f}%\")\n"
   ]
  },
  {
   "cell_type": "markdown",
   "id": "35d85e9b-9538-4ab6-9459-1222bb9049d2",
   "metadata": {},
   "source": [
    "# create match masks"
   ]
  },
  {
   "cell_type": "code",
   "execution_count": 44,
   "id": "f5e21c35-bd9b-4276-8d6f-7b5ea48a5a7a",
   "metadata": {
    "execution": {
     "iopub.execute_input": "2025-09-30T04:48:44.532262Z",
     "iopub.status.busy": "2025-09-30T04:48:44.531593Z",
     "iopub.status.idle": "2025-09-30T04:48:44.565455Z",
     "shell.execute_reply": "2025-09-30T04:48:44.564756Z",
     "shell.execute_reply.started": "2025-09-30T04:48:44.532217Z"
    }
   },
   "outputs": [],
   "source": [
    "matched_known_indices = set()\n",
    "for m in matches:\n",
    "    matched_known_indices.update(m)\n",
    "    \n",
    "all_known_indices = set(range(len(known_ras)))\n",
    "\n",
    "unmatched_known_indices = list(all_known_indices - matched_known_indices)\n",
    "unmatched_known_ras  = known_ras[unmatched_known_indices]\n",
    "unmatched_known_decs = known_decs[unmatched_known_indices]\n",
    "unmatched_known_mjds = known_mjds[unmatched_known_indices]"
   ]
  },
  {
   "cell_type": "code",
   "execution_count": 48,
   "id": "d4abd16c-f156-4efa-b1db-4296609b2197",
   "metadata": {
    "execution": {
     "iopub.execute_input": "2025-09-30T04:49:51.935244Z",
     "iopub.status.busy": "2025-09-30T04:49:51.934711Z",
     "iopub.status.idle": "2025-09-30T04:49:51.943642Z",
     "shell.execute_reply": "2025-09-30T04:49:51.942512Z",
     "shell.execute_reply.started": "2025-09-30T04:49:51.935202Z"
    }
   },
   "outputs": [
    {
     "data": {
      "text/plain": [
       "583"
      ]
     },
     "execution_count": 48,
     "metadata": {},
     "output_type": "execute_result"
    }
   ],
   "source": [
    "len(known_decs[(known_mjds >= 59805.2) & (known_mjds <= 59813.637)])"
   ]
  },
  {
   "cell_type": "code",
   "execution_count": 20,
   "id": "e06b342b-ea94-4777-bad9-e689ab1fef64",
   "metadata": {
    "execution": {
     "iopub.execute_input": "2025-07-13T00:17:27.975954Z",
     "iopub.status.busy": "2025-07-13T00:17:27.975368Z",
     "iopub.status.idle": "2025-07-13T00:17:27.998599Z",
     "shell.execute_reply": "2025-07-13T00:17:27.997714Z",
     "shell.execute_reply.started": "2025-07-13T00:17:27.975915Z"
    }
   },
   "outputs": [],
   "source": [
    "import numpy as np\n",
    "\n",
    "matched_mask = np.fromiter((len(m) > 0 for m in matches), dtype=bool)\n",
    "\n",
    "matched_new_ras   = new_ras[matched_mask]\n",
    "matched_new_decs  = new_decs[matched_mask]\n",
    "matched_new_mjds  = new_mjds[matched_mask]\n",
    "\n",
    "matched_new_array = np.column_stack(\n",
    "    (matched_new_ras, matched_new_decs, matched_new_mjds)\n",
    ")\n",
    "\n",
    "unique_matched_new = np.unique(matched_new_array, axis=0)\n",
    "\n",
    "unique_ras, unique_decs, unique_mjds = unique_matched_new.T\n"
   ]
  },
  {
   "cell_type": "code",
   "execution_count": 21,
   "id": "820b41ee-77c8-41d3-813b-b8ae397c93b0",
   "metadata": {
    "execution": {
     "iopub.execute_input": "2025-07-13T00:17:29.685663Z",
     "iopub.status.busy": "2025-07-13T00:17:29.685091Z",
     "iopub.status.idle": "2025-07-13T00:17:29.855640Z",
     "shell.execute_reply": "2025-07-13T00:17:29.855059Z",
     "shell.execute_reply.started": "2025-07-13T00:17:29.685625Z"
    },
    "scrolled": true
   },
   "outputs": [],
   "source": [
    "unmatched_mask = ~matched_mask\n",
    "\n",
    "unmatched_new_ras   = new_ras[unmatched_mask]\n",
    "unmatched_new_decs  = new_decs[unmatched_mask]\n",
    "unmatched_new_mjds  = new_mjds[unmatched_mask]\n",
    "\n",
    "unmatched_new_array = np.column_stack(\n",
    "    (unmatched_new_ras, unmatched_new_decs, unmatched_new_mjds)\n",
    ")\n",
    "\n",
    "unique_unmatched = np.unique(unmatched_new_array, axis=0)\n",
    "unique_ras, unique_decs, unique_mjds = unique_unmatched.T\n"
   ]
  },
  {
   "cell_type": "code",
   "execution_count": 22,
   "id": "f0348cac-cb62-4135-a1de-e8b999a8abeb",
   "metadata": {
    "execution": {
     "iopub.execute_input": "2025-07-13T00:17:31.540165Z",
     "iopub.status.busy": "2025-07-13T00:17:31.539578Z",
     "iopub.status.idle": "2025-07-13T00:17:31.547063Z",
     "shell.execute_reply": "2025-07-13T00:17:31.546027Z",
     "shell.execute_reply.started": "2025-07-13T00:17:31.540125Z"
    }
   },
   "outputs": [
    {
     "data": {
      "text/plain": [
       "153226"
      ]
     },
     "execution_count": 22,
     "metadata": {},
     "output_type": "execute_result"
    }
   ],
   "source": [
    "len(new_ras)"
   ]
  },
  {
   "cell_type": "code",
   "execution_count": 102,
   "id": "d74da2f9-44c6-41de-9b99-d39b51c1afff",
   "metadata": {
    "execution": {
     "iopub.execute_input": "2025-06-30T20:42:18.426334Z",
     "iopub.status.busy": "2025-06-30T20:42:18.425724Z",
     "iopub.status.idle": "2025-06-30T20:42:18.432074Z",
     "shell.execute_reply": "2025-06-30T20:42:18.430759Z",
     "shell.execute_reply.started": "2025-06-30T20:42:18.426290Z"
    }
   },
   "outputs": [],
   "source": [
    "\n",
    "# np.save(\"./unique_ras_v3_pt9.npy\", unique_ras)\n",
    "# np.save(\"./unique_decs_v3_pt9.npy\", unique_decs)\n",
    "# np.save(\"./unique_mjds_v3_pt9.npy\", unique_mjds)"
   ]
  },
  {
   "cell_type": "code",
   "execution_count": 23,
   "id": "495bb5d2-16b1-4ccf-a16b-5d0887aafd2c",
   "metadata": {
    "execution": {
     "iopub.execute_input": "2025-07-13T00:17:51.750689Z",
     "iopub.status.busy": "2025-07-13T00:17:51.750095Z",
     "iopub.status.idle": "2025-07-13T00:17:51.755594Z",
     "shell.execute_reply": "2025-07-13T00:17:51.754376Z",
     "shell.execute_reply.started": "2025-07-13T00:17:51.750646Z"
    }
   },
   "outputs": [],
   "source": [
    "# ims = np.load(\"./Searches/v3_images_pt9.npy\")\n",
    "# pix_coords = np.load(\"./Searches/v3_predicted_CoordinatesPixels_pt9.npy\")\n",
    "\n",
    "# new_ims = ims[unmatched_mask]\n",
    "# new_pix_coords = pix_coords[unmatched_mask]"
   ]
  },
  {
   "cell_type": "code",
   "execution_count": 92,
   "id": "ea0a0995-a1bf-4212-b62e-0ec09821c04b",
   "metadata": {
    "execution": {
     "iopub.execute_input": "2025-07-12T21:45:38.743737Z",
     "iopub.status.busy": "2025-07-12T21:45:38.743165Z",
     "iopub.status.idle": "2025-07-12T21:45:38.748354Z",
     "shell.execute_reply": "2025-07-12T21:45:38.747338Z",
     "shell.execute_reply.started": "2025-07-12T21:45:38.743696Z"
    }
   },
   "outputs": [],
   "source": []
  },
  {
   "cell_type": "code",
   "execution_count": 26,
   "id": "ed73d59c-4bfe-49c1-ad3d-45612dea57ad",
   "metadata": {
    "execution": {
     "iopub.execute_input": "2025-07-13T00:18:28.982177Z",
     "iopub.status.busy": "2025-07-13T00:18:28.981538Z",
     "iopub.status.idle": "2025-07-13T00:18:29.648946Z",
     "shell.execute_reply": "2025-07-13T00:18:29.647952Z",
     "shell.execute_reply.started": "2025-07-13T00:18:28.982136Z"
    }
   },
   "outputs": [],
   "source": [
    "import numpy as np\n",
    "import matplotlib.pyplot as plt\n",
    "from photutils.aperture import CircularAperture, CircularAnnulus, aperture_photometry\n",
    "from matplotlib.patches import Circle\n",
    "from kevlib.utils.plot import plot_images\n",
    "\n",
    "def calculate_snr_normalized(image_data, position, aperture_radius, annulus_radii, sigma=0.2):\n",
    "    aperture = CircularAperture(position, r=aperture_radius)\n",
    "    annulus = CircularAnnulus(position, r_in=annulus_radii[0], r_out=annulus_radii[1])\n",
    "    aperture_phot = aperture_photometry(image_data, aperture)\n",
    "    signal = aperture_phot['aperture_sum'][0]\n",
    "    \n",
    "    annulus_phot = aperture_photometry(image_data, annulus)\n",
    "    bkg_mean = annulus_phot['aperture_sum'][0] / annulus.area\n",
    "    bkg_total = bkg_mean * aperture.area\n",
    "    net_signal = signal - bkg_total\n",
    "    \n",
    "    N_pixels = aperture.area\n",
    "    total_noise = sigma * np.sqrt(N_pixels)\n",
    "    \n",
    "    snr = net_signal / total_noise if total_noise != 0 else 0\n",
    "    \n",
    "    return snr\n",
    "\n",
    "\n",
    "import matplotlib.pyplot as plt\n",
    "\n",
    "import matplotlib.patches as patches\n",
    "\n",
    "def plot_with_circles(images, coords, nrows=10, ncols=10):\n",
    "    \n",
    "    subset_images= images\n",
    "    \n",
    "    num_plots = nrows * nrows\n",
    "    \n",
    "    fig, axes = plt.subplots(nrows, ncols, figsize=(3*nrows, 3*ncols))\n",
    "    axes = axes.flatten()\n",
    "    \n",
    "    for i in range(num_plots):\n",
    "        ax = axes[i]\n",
    "        if i >= len(subset_images):\n",
    "            ax.axis('off')\n",
    "            continue\n",
    "        \n",
    "        # Show the image\n",
    "        img_2d = subset_images[i, :, :]\n",
    "        ax.imshow(img_2d, origin='lower', cmap='gray')\n",
    "    \n",
    "        # Draw the predicted coordinate as a red circle\n",
    "        x_pred, y_pred = coords[i]\n",
    "        circle = patches.Circle((x_pred, y_pred), radius=2.0, fill=False,\n",
    "                                edgecolor='red', linewidth=2)\n",
    "        ax.add_patch(circle)\n",
    "    \n",
    "        ax.set_xlim(-0.5, 14.5)\n",
    "        ax.set_ylim(-0.5, 14.5)\n",
    "        ax.set_xticks([])\n",
    "        ax.set_yticks([])\n",
    "    \n",
    "    plt.tight_layout()\n",
    "    plt.show()"
   ]
  },
  {
   "cell_type": "code",
   "execution_count": 28,
   "id": "e09c25d4-3b0a-4315-99c7-f5abf8ddc377",
   "metadata": {
    "execution": {
     "iopub.execute_input": "2025-07-13T00:19:03.681016Z",
     "iopub.status.busy": "2025-07-13T00:19:03.680420Z",
     "iopub.status.idle": "2025-07-13T00:19:03.686153Z",
     "shell.execute_reply": "2025-07-13T00:19:03.685120Z",
     "shell.execute_reply.started": "2025-07-13T00:19:03.680975Z"
    }
   },
   "outputs": [],
   "source": [
    "# known_ims = ims[matched_mask]\n",
    "# known_pix_coords = np.load(\"./Searches/v3_predicted_CoordinatesPixels_pt4.npy\")\n",
    "# known_pix_coords = known_pix_coords[matched_mask]\n",
    "# knowns_SNRs = [calculate_snr_normalized(im, position=(center[0], center[1]), aperture_radius=2, annulus_radii=[3,4]) for im, center in zip(known_ims, known_pix_coords)]\n",
    "\n",
    "# unknown_ims = ims[~matched_mask]\n",
    "# unknown_pix_coords = np.load(\"./Searches/v3_predicted_CoordinatesPixels_pt4.npy\")\n",
    "# unknown_pix_coords = unknown_pix_coords[~matched_mask]\n",
    "# unknowns_SNRs = [calculate_snr_normalized(im, position=(center[0], center[1]), aperture_radius=2, annulus_radii=[3,4]) for im, center in zip(unknown_ims, unknown_pix_coords)]"
   ]
  },
  {
   "cell_type": "code",
   "execution_count": 202,
   "id": "b632e1c0-bbf8-4013-ae97-c116149d0c01",
   "metadata": {
    "execution": {
     "iopub.execute_input": "2025-07-01T15:36:48.861778Z",
     "iopub.status.busy": "2025-07-01T15:36:48.861181Z",
     "iopub.status.idle": "2025-07-01T15:36:49.045293Z",
     "shell.execute_reply": "2025-07-01T15:36:49.044799Z",
     "shell.execute_reply.started": "2025-07-01T15:36:48.861737Z"
    }
   },
   "outputs": [
    {
     "data": {
      "text/plain": [
       "<matplotlib.legend.Legend at 0x7fb97a4e5490>"
      ]
     },
     "execution_count": 202,
     "metadata": {},
     "output_type": "execute_result"
    },
    {
     "data": {
      "image/png": "[encoded data removed]",
      "text/plain": [
       "<Figure size 640x480 with 1 Axes>"
      ]
     },
     "metadata": {},
     "output_type": "display_data"
    }
   ],
   "source": [
    "plt.figure()\n",
    "plt.hist(knowns_SNRs, density=True, alpha=0.5, label=\"175 Recovered Known Asteroids in Search Region\")\n",
    "plt.hist(unknowns_SNRs, density=True, alpha=0.5, label=\"All Other CNN Detections >0.9\")\n",
    "plt.xlabel(\"SNR\")\n",
    "plt.legend()"
   ]
  },
  {
   "cell_type": "code",
   "execution_count": 31,
   "id": "fdf00f2c-c300-40ae-b0e2-82df7ee9c041",
   "metadata": {
    "execution": {
     "iopub.execute_input": "2025-07-13T00:19:28.567295Z",
     "iopub.status.busy": "2025-07-13T00:19:28.566704Z",
     "iopub.status.idle": "2025-07-13T00:19:28.571886Z",
     "shell.execute_reply": "2025-07-13T00:19:28.570900Z",
     "shell.execute_reply.started": "2025-07-13T00:19:28.567253Z"
    }
   },
   "outputs": [],
   "source": [
    "# known_pix_coords = np.load(\"./Searches/v3_predicted_CoordinatesPixels_pt4.npy\")\n",
    "\n",
    "# len(known_pix_coords)\n",
    "# 3sho"
   ]
  },
  {
   "cell_type": "code",
   "execution_count": 23,
   "id": "ece4330a-1fed-46f6-961b-f8a23c51b710",
   "metadata": {
    "execution": {
     "iopub.execute_input": "2025-07-12T20:18:14.198235Z",
     "iopub.status.busy": "2025-07-12T20:18:14.197498Z",
     "iopub.status.idle": "2025-07-12T20:18:14.203025Z",
     "shell.execute_reply": "2025-07-12T20:18:14.201990Z",
     "shell.execute_reply.started": "2025-07-12T20:18:14.198192Z"
    },
    "scrolled": true
   },
   "outputs": [],
   "source": [
    "low=3\n",
    "hi=4\n",
    "knowns_SNRs = np.array(knowns_SNRs)\n",
    "plot_with_circles(known_ims[(knowns_SNRs >= low) & (knowns_SNRs <= hi)], known_pix_coords[(knowns_SNRs >= low) & (knowns_SNRs <= hi)], nrows=10, ncols=10)\n"
   ]
  },
  {
   "cell_type": "code",
   "execution_count": 57,
   "id": "1e6a49f6-8925-48af-9f83-bc4efeb7253c",
   "metadata": {
    "execution": {
     "iopub.execute_input": "2025-07-12T20:34:01.841689Z",
     "iopub.status.busy": "2025-07-12T20:34:01.841116Z",
     "iopub.status.idle": "2025-07-12T20:34:01.848914Z",
     "shell.execute_reply": "2025-07-12T20:34:01.847669Z",
     "shell.execute_reply.started": "2025-07-12T20:34:01.841650Z"
    }
   },
   "outputs": [
    {
     "data": {
      "text/plain": [
       "3859777"
      ]
     },
     "execution_count": 57,
     "metadata": {},
     "output_type": "execute_result"
    }
   ],
   "source": [
    "len(known_lines)"
   ]
  },
  {
   "cell_type": "markdown",
   "id": "8cbe888e-9f78-4d59-a93d-086b2a8d8ea1",
   "metadata": {},
   "source": [
    "# Plot known asteroid chains from MPC data"
   ]
  },
  {
   "cell_type": "code",
   "execution_count": 16,
   "id": "6c9930e7-ce65-4532-998e-2b101cbb71a5",
   "metadata": {
    "execution": {
     "iopub.execute_input": "2025-07-19T21:25:17.407672Z",
     "iopub.status.busy": "2025-07-19T21:25:17.407244Z",
     "iopub.status.idle": "2025-07-19T21:25:17.423414Z",
     "shell.execute_reply": "2025-07-19T21:25:17.422275Z",
     "shell.execute_reply.started": "2025-07-19T21:25:17.407650Z"
    }
   },
   "outputs": [
    {
     "data": {
      "text/plain": [
       "591"
      ]
     },
     "execution_count": 16,
     "metadata": {},
     "output_type": "execute_result"
    }
   ],
   "source": [
    "len(r)"
   ]
  },
  {
   "cell_type": "code",
   "execution_count": 22,
   "id": "0b789225-9354-42d2-8f0e-73eae05e9ce3",
   "metadata": {
    "execution": {
     "iopub.execute_input": "2025-07-12T20:18:10.037427Z",
     "iopub.status.busy": "2025-07-12T20:18:10.036822Z",
     "iopub.status.idle": "2025-07-12T20:18:10.041960Z",
     "shell.execute_reply": "2025-07-12T20:18:10.040972Z",
     "shell.execute_reply.started": "2025-07-12T20:18:10.037386Z"
    },
    "scrolled": true
   },
   "outputs": [],
   "source": [
    "# Load Object id's into array.\n",
    "# len(lines)"
   ]
  },
  {
   "cell_type": "code",
   "execution_count": 7,
   "id": "58574997-ae98-4bb6-a3df-2a6c26fc5630",
   "metadata": {
    "execution": {
     "iopub.execute_input": "2025-09-30T00:51:46.160172Z",
     "iopub.status.busy": "2025-09-30T00:51:46.159611Z",
     "iopub.status.idle": "2025-09-30T00:51:46.166355Z",
     "shell.execute_reply": "2025-09-30T00:51:46.165010Z",
     "shell.execute_reply.started": "2025-09-30T00:51:46.160124Z"
    }
   },
   "outputs": [],
   "source": [
    "from astropy.io import fits"
   ]
  },
  {
   "cell_type": "code",
   "execution_count": 8,
   "id": "d1e3abc7-5a87-46c1-800e-6fc6c31a27c3",
   "metadata": {
    "execution": {
     "iopub.execute_input": "2025-09-30T00:51:46.782321Z",
     "iopub.status.busy": "2025-09-30T00:51:46.781775Z",
     "iopub.status.idle": "2025-09-30T00:52:04.535753Z",
     "shell.execute_reply": "2025-09-30T00:52:04.535269Z",
     "shell.execute_reply.started": "2025-09-30T00:51:46.782276Z"
    },
    "scrolled": true
   },
   "outputs": [
    {
     "name": "stdout",
     "output_type": "stream",
     "text": [
      "    objid         ra        dec           mjd\n",
      "0  00244   50.882917  19.079222  59805.871887\n",
      "1  00244   50.938167  19.089944  59806.002269\n",
      "2  00244   50.993417  19.100667  59806.132674\n",
      "3  00244   51.048667  19.111361  59806.263067\n",
      "4  00244   51.103833  19.122028  59806.393588\n",
      "    objid         ra        dec           mjd\n",
      "0  00244   50.882917  19.079222  59805.871887\n",
      "1  00244   50.938167  19.089944  59806.002269\n",
      "2  00244   50.993417  19.100667  59806.132674\n",
      "3  00244   51.048667  19.111361  59806.263067\n",
      "4  00244   51.103833  19.122028  59806.393588\n"
     ]
    },
    {
     "name": "stderr",
     "output_type": "stream",
     "text": [
      "/tmp/ipykernel_20064/4268392347.py:32: DeprecationWarning: DataFrameGroupBy.apply operated on the grouping columns. This behavior is deprecated, and in a future version of pandas the grouping columns will be excluded from the operation. Either pass `include_groups=False` to exclude the groupings or explicitly select the grouping columns after groupby to silence this warning.\n",
      "  .apply(lambda g: g.to_numpy().tolist())\n"
     ]
    },
    {
     "data": {
      "text/plain": [
       "755"
      ]
     },
     "execution_count": 8,
     "metadata": {},
     "output_type": "execute_result"
    }
   ],
   "source": [
    "import numpy as np\n",
    "import pandas as pd\n",
    "\n",
    "cnn_urls = np.load(\"./Searches/S1_URLs.npy\")\n",
    "cnn_urls = np.unique(cnn_urls)\n",
    "cnn_mjds = [fits.open(u)[0].header[\"MJD_OBS\"] for u in cnn_urls]\n",
    "\n",
    "known_lines = np.load(\"WISE_MPC_Known_Lines_STSsearch.npy\")\n",
    "objids = [line[:6] for line in known_lines]\n",
    "r = np.load(\"./known_asteroids_S1_Numbered_RAs.npy\")\n",
    "d = np.load(\"./known_asteroids_S1_Numbered_Decs.npy\")\n",
    "m = np.load(\"./known_asteroids_S1_Numbered_MJDs.npy\")\n",
    "\n",
    "data = {\n",
    "    \"objid\": objids,\n",
    "    \"ra\": r,\n",
    "    \"dec\": d,\n",
    "    \"mjd\": m\n",
    "}\n",
    "\n",
    "df = pd.DataFrame(data)\n",
    "print(df.head(5))\n",
    "\n",
    "df = df.loc[(df[\"mjd\"] >= min(cnn_mjds)) & (df[\"mjd\"] <= max(cnn_mjds))]\n",
    "print(df.head(5))\n",
    "\n",
    "grouped_rows = (\n",
    "    df\n",
    "    .groupby(by='objid', sort=False)\n",
    "    .filter(lambda g: len(g) >= 4)\n",
    "    .groupby(by='objid', sort=False)\n",
    "    .apply(lambda g: g.to_numpy().tolist())\n",
    "    .to_list()\n",
    ")\n",
    "\n",
    "nested_array = np.array(grouped_rows, dtype=object)\n",
    "\n",
    "urls = np.load(\"./Searches/S1_URLs.npy\")\n",
    "urls = np.unique(urls)\n",
    "len(urls)"
   ]
  },
  {
   "cell_type": "code",
   "execution_count": 9,
   "id": "e753db8a-6618-4eb5-86e9-7f08e97c162c",
   "metadata": {
    "collapsed": true,
    "execution": {
     "iopub.execute_input": "2025-09-30T00:40:08.333123Z",
     "iopub.status.busy": "2025-09-30T00:40:08.332561Z",
     "iopub.status.idle": "2025-09-30T00:40:08.343371Z",
     "shell.execute_reply": "2025-09-30T00:40:08.342013Z",
     "shell.execute_reply.started": "2025-09-30T00:40:08.333081Z"
    },
    "jupyter": {
     "outputs_hidden": true
    },
    "scrolled": true
   },
   "outputs": [
    {
     "data": {
      "text/plain": [
       "[['00244 ', 50.88291666666666, 19.07922222222222, 59805.871886574074],\n",
       " ['00244 ', 50.93816666666666, 19.089944444444445, 59806.00226851852],\n",
       " ['00244 ', 50.99341666666666, 19.10066666666667, 59806.13267361111],\n",
       " ['00244 ', 51.048666666666655, 19.111361111111112, 59806.26306712963],\n",
       " ['00244 ', 51.10383333333333, 19.122027777777777, 59806.393587962964],\n",
       " ['00244 ', 51.13137499999999, 19.127388888888888, 59806.45878472222],\n",
       " ['00244 ', 51.158958333333324, 19.132638888888888, 59806.523981481485],\n",
       " ['00244 ', 51.18641666666666, 19.137999999999998, 59806.58917824074],\n",
       " ['00244 ', 51.21391666666666, 19.14322222222222, 59806.654375],\n",
       " ['00244 ', 51.21391666666666, 19.143333333333334, 59806.654502314814],\n",
       " ['00244 ', 51.24145833333333, 19.148555555555554, 59806.71969907408],\n",
       " ['00244 ', 51.268874999999994, 19.15386111111111, 59806.784895833334],\n",
       " ['00244 ', 51.29641666666666, 19.159055555555554, 59806.85009259259],\n",
       " ['00244 ', 51.40608333333332, 19.18005555555556, 59807.11100694445],\n",
       " ['00244 ', 51.46091666666666, 19.190472222222223, 59807.24140046296],\n",
       " ['00244 ', 51.515499999999996, 19.20086111111111, 59807.37179398148],\n",
       " ['00244 ', 51.51558333333333, 19.200916666666664, 59807.3719212963],\n",
       " ['00244 ', 51.570208333333326, 19.211222222222222, 59807.50231481482],\n",
       " ['00244 ', 52.83712499999999, 19.444194444444445, 59810.568090277775],\n",
       " ['00244 ', 52.837166666666654, 19.444277777777778, 59810.56822916667],\n",
       " ['00244 ', 52.89029166666666, 19.453694444444444, 59810.69861111111],\n",
       " ['00244 ', 52.996333333333325, 19.47247222222222, 59810.95940972222],\n",
       " ['00244 ', 52.99637499999999, 19.472583333333333, 59810.95953703704],\n",
       " ['00244 ', 53.04929166666666, 19.481861111111108, 59811.08991898148],\n",
       " ['00244 ', 53.12833333333332, 19.49586111111111, 59811.28550925926],\n",
       " ['00244 ', 53.128499999999995, 19.49586111111111, 59811.28564814815],\n",
       " ['00244 ', 53.155041666666655, 19.500416666666666, 59811.35083333333],\n",
       " ['00244 ', 53.18124999999999, 19.505111111111113, 59811.416030092594],\n",
       " ['00244 ', 53.20762499999999, 19.50958333333333, 59811.48123842593],\n",
       " ['00244 ', 53.234041666666656, 19.514277777777778, 59811.546435185184],\n",
       " ['00244 ', 53.260208333333324, 19.51875, 59811.61162037037],\n",
       " ['00244 ', 53.28670833333332, 19.523527777777776, 59811.67695601852],\n",
       " ['00244 ', 53.33916666666666, 19.53261111111111, 59811.80734953703],\n",
       " ['00244 ', 53.39166666666666, 19.541666666666668, 59811.937731481485],\n",
       " ['00244 ', 53.44416666666666, 19.55075, 59812.06826388889],\n",
       " ['00244 ', 53.49645833333332, 19.559833333333334, 59812.19865740741]]"
      ]
     },
     "execution_count": 9,
     "metadata": {},
     "output_type": "execute_result"
    }
   ],
   "source": [
    "nested_array[0]"
   ]
  },
  {
   "cell_type": "code",
   "execution_count": 9,
   "id": "b84c4513-811f-47cc-9ff1-0713506d535d",
   "metadata": {
    "execution": {
     "iopub.execute_input": "2025-09-30T00:52:04.537088Z",
     "iopub.status.busy": "2025-09-30T00:52:04.536856Z",
     "iopub.status.idle": "2025-09-30T00:52:25.380813Z",
     "shell.execute_reply": "2025-09-30T00:52:25.380332Z",
     "shell.execute_reply.started": "2025-09-30T00:52:04.537073Z"
    }
   },
   "outputs": [
    {
     "name": "stderr",
     "output_type": "stream",
     "text": [
      "100%|██████████| 35/35 [00:16<00:00,  2.15it/s]\n"
     ]
    }
   ],
   "source": [
    "from astropy.wcs import WCS\n",
    "from astropy.io import fits\n",
    "from astropy.coordinates import SkyCoord\n",
    "import numpy as np\n",
    "from tqdm import tqdm\n",
    "\n",
    "url_mjds = [fits.open(url)[0].header[\"MJD_OBS\"] for url in urls]\n",
    "\n",
    "def square_index(x_pix: int, y_pix: int,\n",
    "                 square_size: int = 15,\n",
    "                 image_width: int = 1016,\n",
    "                 image_height: int = 1016):\n",
    "\n",
    "    num_x = image_width  // square_size\n",
    "    num_y = image_height // square_size\n",
    "\n",
    "    if x_pix >= num_x * square_size or y_pix >= num_y * square_size:\n",
    "        return None\n",
    "\n",
    "    i = x_pix // square_size\n",
    "    j = y_pix // square_size\n",
    "    return i * num_y + j\n",
    "\n",
    "im_ind = []\n",
    "all_chain_inds = []\n",
    "pixel_pos = []\n",
    "\n",
    "for i in tqdm(range(len(nested_array))):\n",
    "    chain_inds = []\n",
    "    \n",
    "    for s in range(len(nested_array[i])):\n",
    "\n",
    "        num_urls = 0\n",
    "        \n",
    "        for j, url in enumerate(urls):\n",
    "        \n",
    "            if abs(url_mjds[j] - nested_array[i][s][3]) < 0.0001:\n",
    "                hdul = fits.open(url)\n",
    "                hdul[0].header.rename_keyword('RADECSYS', 'RADESYS')\n",
    "                header = hdul[0].header\n",
    "                wcs = WCS(header)\n",
    "                c = SkyCoord(nested_array[i][s][1], nested_array[i][s][2], frame='icrs', unit='deg')\n",
    "                x0, y0 = wcs.world_to_pixel(c)      \n",
    "                pixel_pos.append([x0, y0])\n",
    "                ind = square_index(x0, y0)\n",
    "\n",
    "                if ind is not None:\n",
    "                \n",
    "                    num_prev_frames = num_urls*4489\n",
    "                    \n",
    "                    final_ind = ind + num_prev_frames\n",
    "                    \n",
    "                    chain_inds.append(final_ind)\n",
    "\n",
    "                break\n",
    "            num_urls+=1\n",
    "\n",
    "    all_chain_inds.append(chain_inds)"
   ]
  },
  {
   "cell_type": "code",
   "execution_count": 35,
   "id": "8f377d33-1166-4030-9aef-18f82edb1b92",
   "metadata": {
    "execution": {
     "iopub.execute_input": "2025-09-30T04:02:11.625188Z",
     "iopub.status.busy": "2025-09-30T04:02:11.624677Z",
     "iopub.status.idle": "2025-09-30T04:02:11.634754Z",
     "shell.execute_reply": "2025-09-30T04:02:11.633723Z",
     "shell.execute_reply.started": "2025-09-30T04:02:11.625147Z"
    },
    "scrolled": true
   },
   "outputs": [
    {
     "data": {
      "text/plain": [
       "[['00244 ', 50.88291666666666, 19.07922222222222, 59805.871886574074],\n",
       " ['00244 ', 50.93816666666666, 19.089944444444445, 59806.00226851852],\n",
       " ['00244 ', 50.99341666666666, 19.10066666666667, 59806.13267361111],\n",
       " ['00244 ', 51.048666666666655, 19.111361111111112, 59806.26306712963],\n",
       " ['00244 ', 51.10383333333333, 19.122027777777777, 59806.393587962964],\n",
       " ['00244 ', 51.13137499999999, 19.127388888888888, 59806.45878472222],\n",
       " ['00244 ', 51.158958333333324, 19.132638888888888, 59806.523981481485],\n",
       " ['00244 ', 51.18641666666666, 19.137999999999998, 59806.58917824074],\n",
       " ['00244 ', 51.21391666666666, 19.14322222222222, 59806.654375],\n",
       " ['00244 ', 51.21391666666666, 19.143333333333334, 59806.654502314814],\n",
       " ['00244 ', 51.24145833333333, 19.148555555555554, 59806.71969907408],\n",
       " ['00244 ', 51.268874999999994, 19.15386111111111, 59806.784895833334],\n",
       " ['00244 ', 51.29641666666666, 19.159055555555554, 59806.85009259259],\n",
       " ['00244 ', 51.40608333333332, 19.18005555555556, 59807.11100694445],\n",
       " ['00244 ', 51.46091666666666, 19.190472222222223, 59807.24140046296],\n",
       " ['00244 ', 51.515499999999996, 19.20086111111111, 59807.37179398148],\n",
       " ['00244 ', 51.51558333333333, 19.200916666666664, 59807.3719212963],\n",
       " ['00244 ', 51.570208333333326, 19.211222222222222, 59807.50231481482],\n",
       " ['00244 ', 52.83712499999999, 19.444194444444445, 59810.568090277775],\n",
       " ['00244 ', 52.837166666666654, 19.444277777777778, 59810.56822916667],\n",
       " ['00244 ', 52.89029166666666, 19.453694444444444, 59810.69861111111],\n",
       " ['00244 ', 52.996333333333325, 19.47247222222222, 59810.95940972222],\n",
       " ['00244 ', 52.99637499999999, 19.472583333333333, 59810.95953703704],\n",
       " ['00244 ', 53.04929166666666, 19.481861111111108, 59811.08991898148],\n",
       " ['00244 ', 53.12833333333332, 19.49586111111111, 59811.28550925926],\n",
       " ['00244 ', 53.128499999999995, 19.49586111111111, 59811.28564814815],\n",
       " ['00244 ', 53.155041666666655, 19.500416666666666, 59811.35083333333],\n",
       " ['00244 ', 53.18124999999999, 19.505111111111113, 59811.416030092594],\n",
       " ['00244 ', 53.20762499999999, 19.50958333333333, 59811.48123842593],\n",
       " ['00244 ', 53.234041666666656, 19.514277777777778, 59811.546435185184],\n",
       " ['00244 ', 53.260208333333324, 19.51875, 59811.61162037037],\n",
       " ['00244 ', 53.28670833333332, 19.523527777777776, 59811.67695601852],\n",
       " ['00244 ', 53.33916666666666, 19.53261111111111, 59811.80734953703],\n",
       " ['00244 ', 53.39166666666666, 19.541666666666668, 59811.937731481485],\n",
       " ['00244 ', 53.44416666666666, 19.55075, 59812.06826388889],\n",
       " ['00244 ', 53.49645833333332, 19.559833333333334, 59812.19865740741]]"
      ]
     },
     "execution_count": 35,
     "metadata": {},
     "output_type": "execute_result"
    }
   ],
   "source": [
    "nested_array[0]"
   ]
  },
  {
   "cell_type": "code",
   "execution_count": 36,
   "id": "08e5eeaa-b814-4b45-a29c-6a3e02bb7729",
   "metadata": {
    "execution": {
     "iopub.execute_input": "2025-09-30T04:04:20.239831Z",
     "iopub.status.busy": "2025-09-30T04:04:20.239283Z",
     "iopub.status.idle": "2025-09-30T04:04:20.252698Z",
     "shell.execute_reply": "2025-09-30T04:04:20.251304Z",
     "shell.execute_reply.started": "2025-09-30T04:04:20.239788Z"
    }
   },
   "outputs": [
    {
     "name": "stdout",
     "output_type": "stream",
     "text": [
      "Average motion rate (deg/day): 0.34770353197639337\n"
     ]
    }
   ],
   "source": [
    "import numpy as np\n",
    "\n",
    "motion_rates = []\n",
    "for chain in nested_array:\n",
    "    if len(chain) < 2:\n",
    "        motion_rates.append(np.nan)\n",
    "        continue\n",
    "\n",
    "    ra1, dec1, mjd1 = chain[0][1], chain[0][2], chain[0][3]\n",
    "    ra2, dec2, mjd2 = chain[-1][1], chain[-1][2], chain[-1][3]\n",
    "\n",
    "    dt_days = mjd2 - mjd1\n",
    "    if dt_days <= 0:\n",
    "        motion_rates.append(np.nan)\n",
    "        continue\n",
    "\n",
    "    dra = (ra2 - ra1) * np.cos(np.radians((dec1 + dec2)/2))\n",
    "    ddec = (dec2 - dec1)\n",
    "    distance_deg=np.sqrt(dra**2 + ddec**2)\n",
    "\n",
    "    rate_deg_per_day = distance_deg / dt_days\n",
    "    motion_rates.append(rate_deg_per_day)\n",
    "\n",
    "motion_rates = np.array(motion_rates)\n",
    "print(\"Average motion rate (deg/day):\", np.nanmean(motion_rates))\n"
   ]
  },
  {
   "cell_type": "code",
   "execution_count": 39,
   "id": "1bf7cc2a-49c1-4bd8-9108-2480aaaea21b",
   "metadata": {
    "execution": {
     "iopub.execute_input": "2025-09-30T04:07:20.274167Z",
     "iopub.status.busy": "2025-09-30T04:07:20.273784Z",
     "iopub.status.idle": "2025-09-30T04:07:20.299450Z",
     "shell.execute_reply": "2025-09-30T04:07:20.298167Z",
     "shell.execute_reply.started": "2025-09-30T04:07:20.274138Z"
    }
   },
   "outputs": [],
   "source": [
    "np.save(\"known_asteroid_S1_motion_rates_from_crosscheckMPCnbk\", motion_rates)"
   ]
  },
  {
   "cell_type": "code",
   "execution_count": 27,
   "id": "90ea7471-0449-4d21-be62-8fa5aea1e979",
   "metadata": {
    "execution": {
     "iopub.execute_input": "2025-07-19T21:28:47.819539Z",
     "iopub.status.busy": "2025-07-19T21:28:47.819011Z",
     "iopub.status.idle": "2025-07-19T21:28:47.824587Z",
     "shell.execute_reply": "2025-07-19T21:28:47.824080Z",
     "shell.execute_reply.started": "2025-07-19T21:28:47.819502Z"
    }
   },
   "outputs": [
    {
     "data": {
      "text/plain": [
       "3389195"
      ]
     },
     "execution_count": 27,
     "metadata": {},
     "output_type": "execute_result"
    }
   ],
   "source": [
    "len(all_ims)"
   ]
  },
  {
   "cell_type": "code",
   "execution_count": 32,
   "id": "5310e3d3-9463-4bf5-b713-04c920ce4548",
   "metadata": {
    "execution": {
     "iopub.execute_input": "2025-07-19T21:29:46.555156Z",
     "iopub.status.busy": "2025-07-19T21:29:46.554587Z",
     "iopub.status.idle": "2025-07-19T21:29:46.559860Z",
     "shell.execute_reply": "2025-07-19T21:29:46.559182Z",
     "shell.execute_reply.started": "2025-07-19T21:29:46.555115Z"
    },
    "scrolled": true
   },
   "outputs": [],
   "source": [
    "c = [c for a in all_chain_inds for c in a]"
   ]
  },
  {
   "cell_type": "code",
   "execution_count": 12,
   "id": "a5c12611-aa0b-4104-a9a2-4224567ff540",
   "metadata": {
    "execution": {
     "iopub.execute_input": "2025-09-30T00:52:49.750700Z",
     "iopub.status.busy": "2025-09-30T00:52:49.750016Z",
     "iopub.status.idle": "2025-09-30T00:52:49.755364Z",
     "shell.execute_reply": "2025-09-30T00:52:49.754557Z",
     "shell.execute_reply.started": "2025-09-30T00:52:49.750654Z"
    },
    "scrolled": true
   },
   "outputs": [],
   "source": [
    "# all_chain_inds"
   ]
  },
  {
   "cell_type": "code",
   "execution_count": null,
   "id": "de7b191d-2fbc-4922-a150-8821e2d9e918",
   "metadata": {
    "execution": {
     "execution_failed": "2025-09-30T00:46:40.482Z",
     "iopub.execute_input": "2025-09-30T00:46:26.380575Z",
     "iopub.status.busy": "2025-09-30T00:46:26.380021Z"
    },
    "scrolled": true
   },
   "outputs": [],
   "source": [
    "from kevlib.utils.io import mmcreate, mmload\n",
    "\n",
    "# all_ims = np.load(\"./Searches/2_S1_initial_deploy_grids_W1.npy\") # W1 successful!\n",
    "all_ims = np.load(\"./w2_s1_initialgrids.npy\") # W1 successful!\n",
    "# all_ims = np.load(\"./Searches/2_.npy\") # W1 successful!\n",
    "\n",
    "all_confs = np.load(\"./Searches/v3_all_confidences_S1.npy\")\n",
    "\n",
    "all_chain_ims = []\n",
    "all_chain_confs = []\n",
    "for i in range(len(all_chain_inds)):\n",
    "    chain_ims = []\n",
    "    chain_confs = []\n",
    "    for j in range(len(all_chain_inds[i])):\n",
    "        chain_ims.append(all_ims[int(all_chain_inds[i][j])])\n",
    "        chain_confs.append(all_confs[int(all_chain_inds[i][j])])\n",
    "    all_chain_ims.append(chain_ims)\n",
    "    all_chain_confs.append(chain_confs)"
   ]
  },
  {
   "cell_type": "code",
   "execution_count": 57,
   "id": "7ba3ca0c-9c8e-497f-80c3-6b4294cd9dda",
   "metadata": {
    "execution": {
     "iopub.execute_input": "2025-09-30T04:56:50.827446Z",
     "iopub.status.busy": "2025-09-30T04:56:50.826905Z",
     "iopub.status.idle": "2025-09-30T04:56:50.832626Z",
     "shell.execute_reply": "2025-09-30T04:56:50.831623Z",
     "shell.execute_reply.started": "2025-09-30T04:56:50.827405Z"
    }
   },
   "outputs": [],
   "source": [
    "# n= [j for i in nested_array for j in i]\n",
    "# nested_array"
   ]
  },
  {
   "cell_type": "code",
   "execution_count": 27,
   "id": "b89d8f56-37bd-4387-907c-bb227cf28a50",
   "metadata": {
    "execution": {
     "iopub.execute_input": "2025-09-30T00:56:55.531777Z",
     "iopub.status.busy": "2025-09-30T00:56:55.531152Z",
     "iopub.status.idle": "2025-09-30T00:57:07.139230Z",
     "shell.execute_reply": "2025-09-30T00:57:07.138647Z",
     "shell.execute_reply.started": "2025-09-30T00:56:55.531735Z"
    }
   },
   "outputs": [],
   "source": [
    "import numpy as np\n",
    "\n",
    "# Load arrays\n",
    "all_ims = np.load(\"./w2_s1_initialgrids.npy\")  \n",
    "all_confs = np.load(\"./Searches/v3_all_confidences_S1.npy\")\n",
    "\n",
    "# Flatten directly instead of creating nested lists\n",
    "flat_chain_ims = [all_ims[int(idx)] for chain in all_chain_inds for idx in chain]\n",
    "flat_chain_confs = [all_confs[int(idx)] for chain in all_chain_inds for idx in chain]\n"
   ]
  },
  {
   "cell_type": "code",
   "execution_count": 31,
   "id": "fdcbfe4d-0f7a-408c-a479-705cf7a18723",
   "metadata": {
    "execution": {
     "iopub.execute_input": "2025-09-30T00:58:43.778138Z",
     "iopub.status.busy": "2025-09-30T00:58:43.777556Z",
     "iopub.status.idle": "2025-09-30T00:58:43.812643Z",
     "shell.execute_reply": "2025-09-30T00:58:43.811652Z",
     "shell.execute_reply.started": "2025-09-30T00:58:43.778096Z"
    }
   },
   "outputs": [],
   "source": [
    "np.save(\"known_asteroids_mpc_irsa_S1_sts_ims_w2\", flat_chain_ims)\n",
    "np.save(\"known_asteroids_mpc_irsa_S1_sts_coords_w2\", pixel_pos)"
   ]
  },
  {
   "cell_type": "code",
   "execution_count": 33,
   "id": "7eb4c679-5a37-4afe-9380-088c010e5c9e",
   "metadata": {
    "execution": {
     "iopub.execute_input": "2025-09-30T01:04:06.199942Z",
     "iopub.status.busy": "2025-09-30T01:04:06.199330Z",
     "iopub.status.idle": "2025-09-30T01:04:06.205049Z",
     "shell.execute_reply": "2025-09-30T01:04:06.204008Z",
     "shell.execute_reply.started": "2025-09-30T01:04:06.199902Z"
    }
   },
   "outputs": [],
   "source": [
    "# pixel_pos[0]"
   ]
  },
  {
   "cell_type": "code",
   "execution_count": 15,
   "id": "c1e08b43-0b21-4f1f-9cdc-bfd6ea9dd11c",
   "metadata": {
    "execution": {
     "iopub.execute_input": "2025-09-30T00:53:31.198242Z",
     "iopub.status.busy": "2025-09-30T00:53:31.197641Z",
     "iopub.status.idle": "2025-09-30T00:53:31.205980Z",
     "shell.execute_reply": "2025-09-30T00:53:31.204915Z",
     "shell.execute_reply.started": "2025-09-30T00:53:31.198195Z"
    }
   },
   "outputs": [
    {
     "data": {
      "text/plain": [
       "458"
      ]
     },
     "execution_count": 15,
     "metadata": {},
     "output_type": "execute_result"
    }
   ],
   "source": [
    "len(pixel_pos)"
   ]
  },
  {
   "cell_type": "markdown",
   "id": "806b1da6-e1ea-4541-92b6-160e0b779a79",
   "metadata": {},
   "source": [
    "# Calculate SNR of known asteroids"
   ]
  },
  {
   "cell_type": "code",
   "execution_count": 18,
   "id": "646e4a27-b3e5-4c01-991b-c112e5b7e861",
   "metadata": {
    "execution": {
     "iopub.execute_input": "2025-09-30T00:41:49.524508Z",
     "iopub.status.busy": "2025-09-30T00:41:49.523948Z",
     "iopub.status.idle": "2025-09-30T00:42:10.080005Z",
     "shell.execute_reply": "2025-09-30T00:42:10.079191Z",
     "shell.execute_reply.started": "2025-09-30T00:41:49.524468Z"
    }
   },
   "outputs": [],
   "source": [
    "b = np.load(\"./Searches/2_S1_DarkPixelsRemoved_Normalized_FinalDeployGrids.npy\")\n",
    "# a = np.load(\"./Searches/2_S1_DarkPixelsRemoved_Normalized_initial_deploy_grids.npy\")"
   ]
  },
  {
   "cell_type": "code",
   "execution_count": 24,
   "id": "7496de5c-c8a1-401d-bb43-365d9ec2a870",
   "metadata": {
    "execution": {
     "iopub.execute_input": "2025-09-30T00:42:16.194262Z",
     "iopub.status.busy": "2025-09-30T00:42:16.193696Z",
     "iopub.status.idle": "2025-09-30T00:42:16.202302Z",
     "shell.execute_reply": "2025-09-30T00:42:16.201398Z",
     "shell.execute_reply.started": "2025-09-30T00:42:16.194209Z"
    }
   },
   "outputs": [
    {
     "data": {
      "text/plain": [
       "0.18927513"
      ]
     },
     "execution_count": 24,
     "metadata": {},
     "output_type": "execute_result"
    }
   ],
   "source": [
    "np.std(b[120])"
   ]
  },
  {
   "cell_type": "code",
   "execution_count": 28,
   "id": "ec6640af-3fd8-463b-ab25-525db0855df8",
   "metadata": {
    "execution": {
     "iopub.execute_input": "2025-09-30T00:43:23.466156Z",
     "iopub.status.busy": "2025-09-30T00:43:23.465590Z",
     "iopub.status.idle": "2025-09-30T00:43:24.533044Z",
     "shell.execute_reply": "2025-09-30T00:43:24.532283Z",
     "shell.execute_reply.started": "2025-09-30T00:43:23.466111Z"
    }
   },
   "outputs": [
    {
     "data": {
      "text/plain": [
       "array([<Axes: >, <Axes: >, <Axes: >, <Axes: >, <Axes: >, <Axes: >,\n",
       "       <Axes: >, <Axes: >, <Axes: >, <Axes: >, <Axes: >, <Axes: >,\n",
       "       <Axes: >, <Axes: >, <Axes: >, <Axes: >, <Axes: >], dtype=object)"
      ]
     },
     "execution_count": 28,
     "metadata": {},
     "output_type": "execute_result"
    },
    {
     "data": {
      "image/png": "[encoded data removed]",
      "text/plain": [
       "<Figure size 3400x200 with 17 Axes>"
      ]
     },
     "metadata": {},
     "output_type": "display_data"
    }
   ],
   "source": [
    "from kevlib.utils.plot import plot_images\n",
    "\n",
    "plot_images(all_chain_ims[0], fig_height=2)"
   ]
  },
  {
   "cell_type": "code",
   "execution_count": 16,
   "id": "ffb999e9-4f78-431e-afa6-e53e8896e831",
   "metadata": {
    "execution": {
     "iopub.execute_input": "2025-07-12T23:33:24.647568Z",
     "iopub.status.busy": "2025-07-12T23:33:24.646959Z",
     "iopub.status.idle": "2025-07-12T23:33:24.654531Z",
     "shell.execute_reply": "2025-07-12T23:33:24.653748Z",
     "shell.execute_reply.started": "2025-07-12T23:33:24.647524Z"
    }
   },
   "outputs": [
    {
     "data": {
      "text/plain": [
       "True"
      ]
     },
     "execution_count": 16,
     "metadata": {},
     "output_type": "execute_result"
    }
   ],
   "source": [
    "len(W1ims) == len(W2ims)"
   ]
  },
  {
   "cell_type": "code",
   "execution_count": 50,
   "id": "bf4d6d79-c170-4877-b5e9-ade6002a9c3c",
   "metadata": {
    "execution": {
     "iopub.execute_input": "2025-07-13T00:06:08.267407Z",
     "iopub.status.busy": "2025-07-13T00:06:08.266477Z",
     "iopub.status.idle": "2025-07-13T00:06:08.274298Z",
     "shell.execute_reply": "2025-07-13T00:06:08.273273Z",
     "shell.execute_reply.started": "2025-07-13T00:06:08.267368Z"
    }
   },
   "outputs": [
    {
     "data": {
      "text/plain": [
       "3389195"
      ]
     },
     "execution_count": 50,
     "metadata": {},
     "output_type": "execute_result"
    }
   ],
   "source": [
    "len(pos_confidences)"
   ]
  },
  {
   "cell_type": "code",
   "execution_count": 60,
   "id": "cc30fda0-e55a-4fb8-876c-db8aed3d585a",
   "metadata": {
    "execution": {
     "iopub.execute_input": "2025-07-20T00:06:09.139061Z",
     "iopub.status.busy": "2025-07-20T00:06:09.138468Z",
     "iopub.status.idle": "2025-07-20T00:06:46.360909Z",
     "shell.execute_reply": "2025-07-20T00:06:46.360325Z",
     "shell.execute_reply.started": "2025-07-20T00:06:09.139021Z"
    },
    "scrolled": true
   },
   "outputs": [
    {
     "name": "stdout",
     "output_type": "stream",
     "text": [
      "PDF saved as 'KnownMPCAsteroids_S1region_W1andW2_Images.pdf'\n"
     ]
    }
   ],
   "source": [
    "good_speed_chains = [[int(s) for s in c] for c in all_chain_inds]\n",
    "\n",
    "import numpy as np\n",
    "import matplotlib.pyplot as plt\n",
    "from matplotlib.backends.backend_pdf import PdfPages\n",
    "\n",
    "# predictedCoords  = np.load(\"./unique_pixCoords_v3_pt4.npy\")\n",
    "W2ims = np.load(\"./w2_s1_initialgrids.npy\")\n",
    "W1ims = np.load(\"./Searches/2_S1_initial_deploy_grids_W1.npy\")\n",
    "pos_confidences = np.load(\"./Searches/v3_all_confidences_S1.npy\")\n",
    "\n",
    "circle_radius = 2\n",
    "\n",
    "row_titles    = ['W1ims', \"W2ims\"]\n",
    "image_arrays  = [W1ims, W2ims]\n",
    "n_rows        = len(image_arrays)\n",
    "\n",
    "pdf_filename = 'KnownMPCAsteroids_S1region_W1andW2_Images.pdf'\n",
    "with PdfPages(pdf_filename) as pdf:\n",
    "    for chain_idx, chain in enumerate(good_speed_chains[0:10]):\n",
    "        n = len(chain)\n",
    "        if n < 1:\n",
    "            continue\n",
    "\n",
    "        \n",
    "        fig, axes = plt.subplots(\n",
    "            n_rows, n,\n",
    "            figsize=(n * 3, n_rows * 3),\n",
    "            squeeze=False\n",
    "        )\n",
    "\n",
    "        for col, img_idx in enumerate(chain):\n",
    "            conf = pos_confidences[img_idx]\n",
    "            axes[0, col].set_title(f\"Confidence: {conf:.2f}\", fontsize=10)\n",
    "\n",
    "            for row in range(n_rows):\n",
    "                ax  = axes[row, col]\n",
    "                img = image_arrays[row][img_idx]\n",
    "\n",
    "                ax.imshow(img, cmap='gray', origin='lower')  # origin='lower' → (0,0) bottom-left\n",
    "                ax.axis('off')\n",
    "\n",
    "                # draw predicted coordinate\n",
    "                # x, y = predictedCoords[img_idx]\n",
    "                # circ = plt.Circle((x, y), radius=circle_radius,\n",
    "                #                   edgecolor='red', facecolor='none', linewidth=2)\n",
    "                # ax.add_patch(circ)\n",
    "\n",
    "                if col == 0:\n",
    "                    ax.set_ylabel(row_titles[row], fontsize=12)\n",
    "\n",
    "        fig.suptitle(f\"Chain {chain_idx}\", fontsize=16)\n",
    "        plt.tight_layout(rect=[0, 0.03, 1, 0.95])\n",
    "        pdf.savefig(fig)\n",
    "        plt.close(fig)\n",
    "\n",
    "print(f\"PDF saved as '{pdf_filename}'\")"
   ]
  },
  {
   "cell_type": "code",
   "execution_count": 22,
   "id": "3f8266be-c088-4683-a2b0-11241258e7d4",
   "metadata": {
    "execution": {
     "iopub.execute_input": "2025-07-12T23:42:08.404867Z",
     "iopub.status.busy": "2025-07-12T23:42:08.404310Z",
     "iopub.status.idle": "2025-07-12T23:42:08.409820Z",
     "shell.execute_reply": "2025-07-12T23:42:08.408792Z",
     "shell.execute_reply.started": "2025-07-12T23:42:08.404827Z"
    }
   },
   "outputs": [],
   "source": [
    "plt.close()"
   ]
  },
  {
   "cell_type": "code",
   "execution_count": null,
   "id": "5d83a526-88a8-4de4-8150-1c1b875fb83d",
   "metadata": {},
   "outputs": [],
   "source": [
    "# MPC asteroids' time differences"
   ]
  },
  {
   "cell_type": "code",
   "execution_count": 25,
   "id": "a93a378f-20d5-4339-98f3-61fc212bcf25",
   "metadata": {
    "execution": {
     "iopub.execute_input": "2025-07-12T20:20:28.885987Z",
     "iopub.status.busy": "2025-07-12T20:20:28.885371Z",
     "iopub.status.idle": "2025-07-12T20:20:28.891004Z",
     "shell.execute_reply": "2025-07-12T20:20:28.889865Z",
     "shell.execute_reply.started": "2025-07-12T20:20:28.885933Z"
    }
   },
   "outputs": [],
   "source": [
    "# nested_array[0]"
   ]
  },
  {
   "cell_type": "code",
   "execution_count": 1,
   "id": "5f8c5619-4205-41f6-b0d2-6f4c790888cd",
   "metadata": {
    "execution": {
     "iopub.execute_input": "2025-07-12T23:19:57.656612Z",
     "iopub.status.busy": "2025-07-12T23:19:57.656041Z",
     "iopub.status.idle": "2025-07-12T23:19:57.797010Z",
     "shell.execute_reply": "2025-07-12T23:19:57.796136Z",
     "shell.execute_reply.started": "2025-07-12T23:19:57.656569Z"
    },
    "scrolled": true
   },
   "outputs": [
    {
     "ename": "NameError",
     "evalue": "name 'nested_array' is not defined",
     "output_type": "error",
     "traceback": [
      "\u001b[0;31m---------------------------------------------------------------------------\u001b[0m",
      "\u001b[0;31mNameError\u001b[0m                                 Traceback (most recent call last)",
      "Cell \u001b[0;32mIn[1], line 1\u001b[0m\n\u001b[0;32m----> 1\u001b[0m \u001b[43mnested_array\u001b[49m[\u001b[38;5;241m0\u001b[39m]\n",
      "\u001b[0;31mNameError\u001b[0m: name 'nested_array' is not defined"
     ]
    }
   ],
   "source": [
    "nested_array[0]"
   ]
  },
  {
   "cell_type": "code",
   "execution_count": 282,
   "id": "9a8ab1b1-2f3e-431a-9387-58eb04d8bb6d",
   "metadata": {
    "execution": {
     "iopub.execute_input": "2025-07-02T18:56:11.229073Z",
     "iopub.status.busy": "2025-07-02T18:56:11.228483Z",
     "iopub.status.idle": "2025-07-02T18:56:11.236191Z",
     "shell.execute_reply": "2025-07-02T18:56:11.234945Z",
     "shell.execute_reply.started": "2025-07-02T18:56:11.229033Z"
    }
   },
   "outputs": [
    {
     "name": "stdout",
     "output_type": "stream",
     "text": [
      "Object `np.dist` not found.\n"
     ]
    }
   ],
   "source": [
    "?np.dist"
   ]
  },
  {
   "cell_type": "code",
   "execution_count": 298,
   "id": "db387912-2ebc-470e-b53f-35115caa2c84",
   "metadata": {
    "execution": {
     "iopub.execute_input": "2025-07-02T21:33:45.969335Z",
     "iopub.status.busy": "2025-07-02T21:33:45.968770Z",
     "iopub.status.idle": "2025-07-02T21:33:45.978292Z",
     "shell.execute_reply": "2025-07-02T21:33:45.977101Z",
     "shell.execute_reply.started": "2025-07-02T21:33:45.969294Z"
    }
   },
   "outputs": [],
   "source": [
    "speeds = []\n",
    "for arr in nested_array:\n",
    "    c_speeds = []\n",
    "    for i in range(1, len(arr)):\n",
    "    \n",
    "        p1 = (arr[i][1], arr[i][2])\n",
    "        \n",
    "        p2 = (arr[i-1][1], arr[i-1][2] )\n",
    "    \n",
    "        t = arr[i][3] - arr[i-1][3]\n",
    "        c_speeds.append(math.dist(p1, p2) / t)\n",
    "    speeds.append(c_speeds)\n",
    "    "
   ]
  },
  {
   "cell_type": "code",
   "execution_count": 346,
   "id": "70b29940-b7fe-49cc-80c1-5e7bef51acb1",
   "metadata": {
    "execution": {
     "iopub.execute_input": "2025-07-02T21:48:01.545362Z",
     "iopub.status.busy": "2025-07-02T21:48:01.544779Z",
     "iopub.status.idle": "2025-07-02T21:48:01.551668Z",
     "shell.execute_reply": "2025-07-02T21:48:01.551139Z",
     "shell.execute_reply.started": "2025-07-02T21:48:01.545318Z"
    }
   },
   "outputs": [],
   "source": [
    "diffs = []\n",
    "for x in range(len(nested_array)):\n",
    "    c_diffs = []\n",
    "    for i in range(1,len(nested_array[x])):\n",
    "        c_diffs.append(nested_array[x][i][3] - nested_array[x][i-1][3])\n",
    "    diffs.append(c_diffs)"
   ]
  },
  {
   "cell_type": "code",
   "execution_count": 349,
   "id": "68121e8d-4e08-40f5-86b1-4aee665a4e5f",
   "metadata": {
    "execution": {
     "iopub.execute_input": "2025-07-02T21:49:57.500098Z",
     "iopub.status.busy": "2025-07-02T21:49:57.499519Z",
     "iopub.status.idle": "2025-07-02T21:49:57.504826Z",
     "shell.execute_reply": "2025-07-02T21:49:57.503741Z",
     "shell.execute_reply.started": "2025-07-02T21:49:57.500057Z"
    }
   },
   "outputs": [],
   "source": [
    "# diffs"
   ]
  },
  {
   "cell_type": "code",
   "execution_count": 351,
   "id": "235f4960-e8f4-4895-9854-591bb9c245c3",
   "metadata": {
    "execution": {
     "iopub.execute_input": "2025-07-02T21:50:43.016846Z",
     "iopub.status.busy": "2025-07-02T21:50:43.016267Z",
     "iopub.status.idle": "2025-07-02T21:50:43.023939Z",
     "shell.execute_reply": "2025-07-02T21:50:43.023002Z",
     "shell.execute_reply.started": "2025-07-02T21:50:43.016804Z"
    }
   },
   "outputs": [],
   "source": [
    "avg_diffs = []\n",
    "for c in diffs:\n",
    "    s = 0\n",
    "    for d in c:\n",
    "        s += d\n",
    "    \n",
    "    avg_diffs.append(s / len(c))\n",
    "\n",
    "avg_speeds = []\n",
    "for c in speeds:\n",
    "    s = 0\n",
    "    for d in c:\n",
    "        s += d\n",
    "    \n",
    "    avg_speeds.append(s / len(c))\n"
   ]
  },
  {
   "cell_type": "code",
   "execution_count": 352,
   "id": "018b1f8d-f4be-4bd7-8179-ce295dd383a5",
   "metadata": {
    "execution": {
     "iopub.execute_input": "2025-07-02T21:51:13.203170Z",
     "iopub.status.busy": "2025-07-02T21:51:13.202592Z",
     "iopub.status.idle": "2025-07-02T21:51:13.331114Z",
     "shell.execute_reply": "2025-07-02T21:51:13.330036Z",
     "shell.execute_reply.started": "2025-07-02T21:51:13.203130Z"
    }
   },
   "outputs": [
    {
     "data": {
      "text/plain": [
       "[<matplotlib.lines.Line2D at 0x7fb96aac6510>]"
      ]
     },
     "execution_count": 352,
     "metadata": {},
     "output_type": "execute_result"
    },
    {
     "data": {
      "image/png": "[encoded data removed]",
      "text/plain": [
       "<Figure size 640x480 with 1 Axes>"
      ]
     },
     "metadata": {},
     "output_type": "display_data"
    }
   ],
   "source": [
    "plt.figure()\n",
    "plt.plot(avg_speeds, avg_diffs , \".k\")"
   ]
  },
  {
   "cell_type": "code",
   "execution_count": 345,
   "id": "6fe109bb-e58c-4b1b-9053-41d698c9b0ee",
   "metadata": {
    "execution": {
     "iopub.execute_input": "2025-07-02T21:46:09.921768Z",
     "iopub.status.busy": "2025-07-02T21:46:09.920878Z",
     "iopub.status.idle": "2025-07-02T21:46:09.926502Z",
     "shell.execute_reply": "2025-07-02T21:46:09.925259Z",
     "shell.execute_reply.started": "2025-07-02T21:46:09.921726Z"
    },
    "scrolled": true
   },
   "outputs": [],
   "source": [
    "plt.figure()\n",
    "diffs = np.array(diffs)\n",
    "plt.hist(diffs[diffs<1], bins=12)\n",
    "plt.xlabel(\"time difference (days)\")"
   ]
  },
  {
   "cell_type": "code",
   "execution_count": 293,
   "id": "c5c11ca2-8995-4455-9fe8-93802f48243a",
   "metadata": {
    "execution": {
     "iopub.execute_input": "2025-07-02T19:00:36.961378Z",
     "iopub.status.busy": "2025-07-02T19:00:36.960786Z",
     "iopub.status.idle": "2025-07-02T19:00:36.968889Z",
     "shell.execute_reply": "2025-07-02T19:00:36.967769Z",
     "shell.execute_reply.started": "2025-07-02T19:00:36.961335Z"
    },
    "scrolled": true
   },
   "outputs": [
    {
     "data": {
      "text/plain": [
       "[0.4316610028719301,\n",
       " 0.3933328643907414,\n",
       " 0.26396600065143705,\n",
       " 0.2539797474631764,\n",
       " 0.29429911293045974,\n",
       " 0.26105863225100984,\n",
       " 0.8485281168873496,\n",
       " 0.4364430678157388,\n",
       " 2.3925504093719865,\n",
       " 0.2677921830586673,\n",
       " 0.46516051103896305,\n",
       " 0.446935010495127,\n",
       " 0.34587389664264667,\n",
       " 0.26123533522149794,\n",
       " 0.3808561319857342,\n",
       " 0.33277198199366015,\n",
       " 0.42646504876321567,\n",
       " 0.3588121954659128,\n",
       " 0.25768379274819964,\n",
       " 0.4750194006453578,\n",
       " 0.4234068778532943,\n",
       " 0.43202563685691575,\n",
       " 0.36792669292636815,\n",
       " 0.3769424136735442,\n",
       " 0.6352142309313642,\n",
       " 0.28815927482540915,\n",
       " 0.3858450640049334,\n",
       " 0.47173110309836813,\n",
       " 0.3998003531330465,\n",
       " 0.5445773162857606,\n",
       " 0.4182291150870946,\n",
       " 0.4277791912557158,\n",
       " 0.45406559784513534,\n",
       " 0.4087699516903677,\n",
       " 0.3866595036274916]"
      ]
     },
     "execution_count": 293,
     "metadata": {},
     "output_type": "execute_result"
    }
   ],
   "source": [
    "speeds"
   ]
  },
  {
   "cell_type": "code",
   "execution_count": 19,
   "id": "bca9f85d-67a6-443b-91a0-5f7d58651b92",
   "metadata": {
    "execution": {
     "iopub.execute_input": "2025-07-12T23:35:53.894064Z",
     "iopub.status.busy": "2025-07-12T23:35:53.893461Z",
     "iopub.status.idle": "2025-07-12T23:35:53.902236Z",
     "shell.execute_reply": "2025-07-12T23:35:53.901153Z",
     "shell.execute_reply.started": "2025-07-12T23:35:53.894020Z"
    }
   },
   "outputs": [
    {
     "data": {
      "text/plain": [
       "[['39741 ', 52.02258333333333, 24.239055555555556, 59811.34994212963],\n",
       " ['39741 ', 52.06366666666666, 24.24427777777778, 59811.415138888886],\n",
       " ['39741 ', 52.1455, 24.255444444444443, 59811.54553240741],\n",
       " ['39741 ', 52.185916666666664, 24.261027777777777, 59811.61072916666],\n",
       " ['39741 ', 52.268208333333334, 24.271833333333333, 59811.74125],\n",
       " ['39741 ', 52.34954166666667, 24.282805555555555, 59811.87165509259],\n",
       " ['39741 ', 52.430833333333325, 24.293833333333335, 59812.00204861111],\n",
       " ['39741 ', 52.796166666666664, 24.34161111111111, 59812.58907407407],\n",
       " ['39741 ', 52.87674999999999, 24.35177777777778, 59812.71946759259],\n",
       " ['39741 ', 52.95841666666666, 24.362194444444444, 59812.84998842593]]"
      ]
     },
     "execution_count": 19,
     "metadata": {},
     "output_type": "execute_result"
    }
   ],
   "source": [
    "nested_array[24]"
   ]
  }
 ],
 "metadata": {
  "kernelspec": {
   "display_name": "Python 3 (ipykernel)",
   "language": "python",
   "name": "python3"
  },
  "language_info": {
   "codemirror_mode": {
    "name": "ipython",
    "version": 3
   },
   "file_extension": ".py",
   "mimetype": "text/x-python",
   "name": "python",
   "nbconvert_exporter": "python",
   "pygments_lexer": "ipython3",
   "version": "3.11.4"
  }
 },
 "nbformat": 4,
 "nbformat_minor": 5
}
